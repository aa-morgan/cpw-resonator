{
 "cells": [
  {
   "cell_type": "code",
   "execution_count": 1,
   "metadata": {
    "collapsed": true
   },
   "outputs": [],
   "source": [
    "from cpwprop import *\n",
    "from helprop import *\n",
    "import matplotlib.pyplot as plt \n",
    "from scipy.constants import c\n",
    "%matplotlib inline"
   ]
  },
  {
   "cell_type": "code",
   "execution_count": 2,
   "metadata": {},
   "outputs": [],
   "source": [
    "# Default values\n",
    "default = {'length':                [7153E-6],\n",
    "           'conductorWidth':        [20E-6],\n",
    "           'gapWidth':              [10E-6],\n",
    "           'conductorThickness':    [100E-9],\n",
    "           'resonatorType':         'quarter',\n",
    "           'conductorMaterial':     'Niobium Nitride',\n",
    "           'substrateMaterial':     'Silicon',\n",
    "           'temperature':           [3],\n",
    "           'couplingCapacitance':   [10E-15],\n",
    "           'loadBoundaryCondition': 'Short',\n",
    "           'mode':                  [1]}  "
   ]
  },
  {
   "cell_type": "code",
   "execution_count": 9,
   "metadata": {},
   "outputs": [],
   "source": [
    "# Instantiate a CPWResonator object\n",
    "mCPW = CPWResonator(length                = default['length'], \n",
    "                    conductorWidth        = default['conductorWidth'], \n",
    "                    gapWidth              = default['gapWidth'], \n",
    "                    conductorThickness    = default['conductorThickness'],\n",
    "                    resonatorType         = default['resonatorType'], \n",
    "                    conductorMaterial     = default['conductorMaterial'], \n",
    "                    substrateMaterial     = default['substrateMaterial'],\n",
    "                    temperature           = default['temperature'], \n",
    "                    couplingCapacitance   = default['couplingCapacitance'], \n",
    "                    loadBoundaryCondition = default['loadBoundaryCondition'], \n",
    "                    mode                  = [1,2,3,4,5,6])"
   ]
  },
  {
   "cell_type": "code",
   "execution_count": 10,
   "metadata": {},
   "outputs": [
    {
     "data": {
      "text/html": [
       "<div>\n",
       "<style scoped>\n",
       "    .dataframe tbody tr th:only-of-type {\n",
       "        vertical-align: middle;\n",
       "    }\n",
       "\n",
       "    .dataframe tbody tr th {\n",
       "        vertical-align: top;\n",
       "    }\n",
       "\n",
       "    .dataframe thead th {\n",
       "        text-align: right;\n",
       "    }\n",
       "</style>\n",
       "<table border=\"1\" class=\"dataframe\">\n",
       "  <thead>\n",
       "    <tr style=\"text-align: right;\">\n",
       "      <th></th>\n",
       "      <th>frequency (GHz)</th>\n",
       "    </tr>\n",
       "  </thead>\n",
       "  <tbody>\n",
       "    <tr>\n",
       "      <th>1</th>\n",
       "      <td>4.083985</td>\n",
       "    </tr>\n",
       "    <tr>\n",
       "      <th>2</th>\n",
       "      <td>12.251972</td>\n",
       "    </tr>\n",
       "    <tr>\n",
       "      <th>3</th>\n",
       "      <td>20.420007</td>\n",
       "    </tr>\n",
       "    <tr>\n",
       "      <th>4</th>\n",
       "      <td>28.588123</td>\n",
       "    </tr>\n",
       "    <tr>\n",
       "      <th>5</th>\n",
       "      <td>36.756352</td>\n",
       "    </tr>\n",
       "    <tr>\n",
       "      <th>6</th>\n",
       "      <td>44.924725</td>\n",
       "    </tr>\n",
       "  </tbody>\n",
       "</table>\n",
       "</div>"
      ],
      "text/plain": [
       "   frequency (GHz)\n",
       "1         4.083985\n",
       "2        12.251972\n",
       "3        20.420007\n",
       "4        28.588123\n",
       "5        36.756352\n",
       "6        44.924725"
      ]
     },
     "execution_count": 10,
     "metadata": {},
     "output_type": "execute_result"
    }
   ],
   "source": [
    "# Display the coupled resonance frequencies\n",
    "pd.DataFrame(mCPW.coupledResonantFrequency()/10**9, columns=['frequency (GHz)'], index=mCPW.mode)"
   ]
  },
  {
   "cell_type": "markdown",
   "metadata": {},
   "source": [
    "The required length of the resonator (assuming no shifts due to effects of temperature, capacitive coupling, etc) such that the corresponsing harmonic matches a given frequency are calculated below,"
   ]
  },
  {
   "cell_type": "code",
   "execution_count": 6,
   "metadata": {},
   "outputs": [
    {
     "name": "stdout",
     "output_type": "stream",
     "text": [
      "Transition frequency (❘ 68 67 1 67 67 ⟩ -> ❘ 69 68 1 68 68 ⟩): 20.470 GHz\n"
     ]
    }
   ],
   "source": [
    "def length(cpw, frequency):\n",
    "    m = cpw.getModeFactor()\n",
    "    return (c / np.sqrt(cpw.effectivePermittivity())) / (m * frequency)\n",
    "\n",
    "state_1 = State(n=68, L=67, S=1, M=67)\n",
    "state_2 = State(n=69, L=68, S=1, M=68)\n",
    "atomFreq = transition_energy(state_1, state_2, units='ghz')\n",
    "lengths = length(mCPW, atomFreq*10**9)\n",
    "print('Transition frequency ({} -> {}): {:.3f} GHz'.format(state_1, state_2, atomFreq))"
   ]
  },
  {
   "cell_type": "code",
   "execution_count": 7,
   "metadata": {},
   "outputs": [
    {
     "data": {
      "text/html": [
       "<div>\n",
       "<style scoped>\n",
       "    .dataframe tbody tr th:only-of-type {\n",
       "        vertical-align: middle;\n",
       "    }\n",
       "\n",
       "    .dataframe tbody tr th {\n",
       "        vertical-align: top;\n",
       "    }\n",
       "\n",
       "    .dataframe thead th {\n",
       "        text-align: right;\n",
       "    }\n",
       "</style>\n",
       "<table border=\"1\" class=\"dataframe\">\n",
       "  <thead>\n",
       "    <tr style=\"text-align: right;\">\n",
       "      <th></th>\n",
       "      <th>length (mm)</th>\n",
       "    </tr>\n",
       "  </thead>\n",
       "  <tbody>\n",
       "    <tr>\n",
       "      <th>1</th>\n",
       "      <td>1441</td>\n",
       "    </tr>\n",
       "    <tr>\n",
       "      <th>2</th>\n",
       "      <td>4324</td>\n",
       "    </tr>\n",
       "    <tr>\n",
       "      <th>3</th>\n",
       "      <td>7208</td>\n",
       "    </tr>\n",
       "    <tr>\n",
       "      <th>4</th>\n",
       "      <td>10091</td>\n",
       "    </tr>\n",
       "    <tr>\n",
       "      <th>5</th>\n",
       "      <td>12974</td>\n",
       "    </tr>\n",
       "    <tr>\n",
       "      <th>6</th>\n",
       "      <td>15858</td>\n",
       "    </tr>\n",
       "  </tbody>\n",
       "</table>\n",
       "</div>"
      ],
      "text/plain": [
       "   length (mm)\n",
       "1         1441\n",
       "2         4324\n",
       "3         7208\n",
       "4        10091\n",
       "5        12974\n",
       "6        15858"
      ]
     },
     "execution_count": 7,
     "metadata": {},
     "output_type": "execute_result"
    }
   ],
   "source": [
    "pd.DataFrame(list(map(int, lengths*10**6)), columns=['length (mm)'], index=mCPW.mode)"
   ]
  },
  {
   "cell_type": "code",
   "execution_count": 13,
   "metadata": {},
   "outputs": [
    {
     "data": {
      "text/plain": [
       "[                      Supplied parameters\n",
       " length                           0.007153\n",
       " conductorWidth                      2e-05\n",
       " gapWidth                            1e-05\n",
       " conductorThickness                  1e-07\n",
       " resonatorType                     quarter\n",
       " conductor                 Niobium Nitride\n",
       " substrate                         Silicon\n",
       " temperature                             3\n",
       " couplingCapacitance                 1e-14\n",
       " loadImpedance                          50\n",
       " loadBoundaryCondition               Short\n",
       " mode                                    3,\n",
       "                                         Calculated parameters\n",
       " effectivePermittivity                               (6.45+0j)\n",
       " capacitancePerUnitLength          (1.7348706631438613e-10+0j)\n",
       " totalInductancePerUnitLength      (4.1877683676182186e-07+0j)\n",
       " geometricInductancePerUnitLength  (4.1366731330511473e-07+0j)\n",
       " kineticInductancePerUnitLength     (5.109523456707111e-09+0j)\n",
       " londonPenetrationDepthT            (4.002354172196782e-08+0j)\n",
       " characteristicImpedance               (49.131245574935484+0j)\n",
       " inputImpedance                             1563.049934747406j\n",
       " uncoupledResonantFrequency             (20502032155.92497+0j)\n",
       " coupledResonantFrequency              (20420006638.216465+0j)\n",
       " effectiveCouplingCapacitance       (9.989639436236115e-15+0j)\n",
       " internalQualityFactor                  (2287496.398356891+0j)\n",
       " externalQualityFactor                  (967.3341132182833+0j)\n",
       " loadedQualityFactor                     (966.925220880022+0j)\n",
       " insertionLoss                       (0.003672303619563942+0j)\n",
       " beta                                  (1097.9982712113074+0j)]"
      ]
     },
     "execution_count": 13,
     "metadata": {},
     "output_type": "execute_result"
    }
   ],
   "source": [
    "# Display all of the properies of a particular mode\n",
    "mCPW = CPWResonator(length                = default['length'], \n",
    "                    conductorWidth        = default['conductorWidth'], \n",
    "                    gapWidth              = default['gapWidth'], \n",
    "                    conductorThickness    = default['conductorThickness'],\n",
    "                    resonatorType         = default['resonatorType'], \n",
    "                    conductorMaterial     = default['conductorMaterial'], \n",
    "                    substrateMaterial     = default['substrateMaterial'],\n",
    "                    temperature           = default['temperature'], \n",
    "                    couplingCapacitance   = default['couplingCapacitance'], \n",
    "                    loadBoundaryCondition = default['loadBoundaryCondition'], \n",
    "                    mode                  = [3])\n",
    "\n",
    "mCPW.info()"
   ]
  },
  {
   "cell_type": "code",
   "execution_count": null,
   "metadata": {},
   "outputs": [],
   "source": []
  }
 ],
 "metadata": {
  "anaconda-cloud": {},
  "kernelspec": {
   "display_name": "Python 3",
   "language": "python",
   "name": "python3"
  },
  "language_info": {
   "codemirror_mode": {
    "name": "ipython",
    "version": 3
   },
   "file_extension": ".py",
   "mimetype": "text/x-python",
   "name": "python",
   "nbconvert_exporter": "python",
   "pygments_lexer": "ipython3",
   "version": "3.6.6"
  }
 },
 "nbformat": 4,
 "nbformat_minor": 2
}
