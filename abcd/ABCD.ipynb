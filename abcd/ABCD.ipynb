{
 "cells": [
  {
   "cell_type": "code",
   "execution_count": 2,
   "metadata": {
    "collapsed": false
   },
   "outputs": [],
   "source": [
    "import numpy as np"
   ]
  },
  {
   "cell_type": "code",
   "execution_count": 3,
   "metadata": {
    "collapsed": false
   },
   "outputs": [],
   "source": [
    "class ABCD:\n",
    "    'ABCD matrix method'\n",
    "\n",
    "    def __init__(self, length, alpha, beta, couplingCapacitance, charImpedance, loadResistance, freqRange, freqStep):\n",
    "        self.length = length\n",
    "        self.gamma = alpha + 1j*beta\n",
    "        self.couplingCapacitance = couplingCapacitance\n",
    "        self.charImpedance = charImpedance\n",
    "        self.loadResistance = loadResistance\n",
    "        self.freqRange = freqRange\n",
    "        self.freqStep = freqStep\n",
    "        self.steps = np.size(np.arange(freqRange[0], freqRange[1], freqStep))\n",
    "        \n",
    "        self.s21 = self.s21(self.abcd(\n",
    "            self.input(couplingCapacitance, freqRange, freqStep),\n",
    "            self.transmission(length, self.gamma, charImpedance, self.steps),\n",
    "            self.output(couplingCapacitance, freqRange, freqStep)),\n",
    "            loadResistance)\n",
    "\n",
    "    def input(self, couplingCapacitance, freqRange, freqStep):\n",
    "        freq = np.arange(freqRange[0], freqRange[1], freqStep)\n",
    "        n=np.size(freq)\n",
    "        Zin = 1/(1j*freq*couplingCapacitance)\n",
    "        return np.append(np.ones(n),[np.zeros(n),Zin,np.ones(n)]).reshape(n,2,2,order='F')\n",
    "        \n",
    "    def output(self, couplingCapacitance, freqRange, freqStep):\n",
    "        freq = np.arange(freqRange[0], freqRange[1], freqStep)\n",
    "        n=np.size(freq)\n",
    "        Zin = 1/(1j*freq*couplingCapacitance)\n",
    "        return np.append(np.ones(n),[np.zeros(n),Zin,np.ones(n)]).reshape(n,2,2,order='F')\n",
    "        \n",
    "    def transmission(self, length, gamma, charImpedance, steps):\n",
    "        t11 = np.cosh(gamma * length)\n",
    "        t12 = charImpedance * np.sinh(gamma * length)\n",
    "        t21 = 1/(charImpedance * np.sinh(gamma * length))\n",
    "        t22 = np.cosh(gamma * length)\n",
    "        return np.append(t11*np.ones(steps),[t21*np.ones(steps),t12*np.ones(steps),t22*np.ones(steps)]) \\\n",
    "            .reshape(steps,2,2,order='F')\n",
    "    \n",
    "    def abcd(self, input, transmission, output):\n",
    "        return input*transmission*output\n",
    "    \n",
    "    def s21(self, pABCD, loadResistance):\n",
    "        A = pABCD[:,0,0]\n",
    "        B = pABCD[:,0,1]\n",
    "        C = pABCD[:,1,0]\n",
    "        D = pABCD[:,1,1]\n",
    "        RL = loadResistance\n",
    "        return 2/( A + (B/RL)+ (C*RL) + D )\n"
   ]
  },
  {
   "cell_type": "code",
   "execution_count": 4,
   "metadata": {
    "collapsed": false
   },
   "outputs": [],
   "source": [
    "length=7524\n",
    "alpha=2.4E-4\n",
    "beta=1.0E-4\n",
    "couplingCapacitance=50\n",
    "charImpedance=50\n",
    "loadResistance=50\n",
    "freqRange=[1,10.0]\n",
    "freqStep=0.1"
   ]
  },
  {
   "cell_type": "code",
   "execution_count": 5,
   "metadata": {
    "collapsed": false
   },
   "outputs": [],
   "source": [
    "abcd=ABCD(length, alpha, beta, couplingCapacitance, charImpedance, loadResistance, freqRange, freqStep)\n",
    "data=abcd.s21"
   ]
  },
  {
   "cell_type": "code",
   "execution_count": 6,
   "metadata": {
    "collapsed": true
   },
   "outputs": [],
   "source": [
    "%matplotlib inline\n",
    "\n",
    "import matplotlib\n",
    "import matplotlib.pyplot as plt"
   ]
  },
  {
   "cell_type": "code",
   "execution_count": 7,
   "metadata": {
    "collapsed": false
   },
   "outputs": [
    {
     "data": {
      "text/plain": [
       "[<matplotlib.lines.Line2D at 0x10aa939b0>]"
      ]
     },
     "execution_count": 7,
     "metadata": {},
     "output_type": "execute_result"
    },
    {
     "data": {
      "image/png": "[encoded data removed]",
      "text/plain": [
       "<matplotlib.figure.Figure at 0x10a9aaef0>"
      ]
     },
     "metadata": {},
     "output_type": "display_data"
    }
   ],
   "source": [
    "plt.plot(np.arange(freqRange[0], freqRange[1], freqStep),np.real(data))"
   ]
  },
  {
   "cell_type": "code",
   "execution_count": null,
   "metadata": {
    "collapsed": false
   },
   "outputs": [],
   "source": []
  },
  {
   "cell_type": "code",
   "execution_count": null,
   "metadata": {
    "collapsed": true
   },
   "outputs": [],
   "source": []
  }
 ],
 "metadata": {
  "anaconda-cloud": {},
  "kernelspec": {
   "display_name": "Python [default]",
   "language": "python",
   "name": "python3"
  },
  "language_info": {
   "codemirror_mode": {
    "name": "ipython",
    "version": 3
   },
   "file_extension": ".py",
   "mimetype": "text/x-python",
   "name": "python",
   "nbconvert_exporter": "python",
   "pygments_lexer": "ipython3",
   "version": "3.5.2"
  }
 },
 "nbformat": 4,
 "nbformat_minor": 1
}
