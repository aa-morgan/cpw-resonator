{
 "cells": [
  {
   "cell_type": "code",
   "execution_count": 3,
   "metadata": {
    "collapsed": false
   },
   "outputs": [],
   "source": [
    "import numpy as np\n",
    "import matplotlib.pyplot as plt\n",
    "%matplotlib inline"
   ]
  },
  {
   "cell_type": "code",
   "execution_count": 48,
   "metadata": {
    "collapsed": false
   },
   "outputs": [],
   "source": [
    "class ABCD:\n",
    "    'ABCD matrix method'\n",
    "\n",
    "    def __init__(self, freq, length, alpha, beta, couplingCapacitance, charImpedance, loadResistance):\n",
    "        self.freq = freq\n",
    "        self.length = length\n",
    "        self.gamma = alpha + 1j*beta\n",
    "        self.couplingCapacitance = couplingCapacitance\n",
    "        self.charImpedance = charImpedance\n",
    "        self.loadResistance = loadResistance\n",
    "        \n",
    "        self.s21 = self.s21(self.abcd(\n",
    "            self.input(self.freq, self.couplingCapacitance),\n",
    "            self.transmission(self.freq, self.length, self.gamma, self.charImpedance),\n",
    "            self.output(self.freq, self.couplingCapacitance)),\n",
    "            loadResistance)\n",
    "\n",
    "    def input(self, freq, couplingCapacitance):\n",
    "        n=np.size(freq)\n",
    "        Zin = 1/(1j*freq*couplingCapacitance)\n",
    "        return np.append(np.ones(n),[np.zeros(n),Zin,np.ones(n)]).reshape(n,2,2,order='F')\n",
    "        \n",
    "    def output(self, freq, couplingCapacitance):\n",
    "        n=np.size(freq)\n",
    "        Zin = 1/(1j*freq*couplingCapacitance)\n",
    "        return np.append(np.ones(n),[np.zeros(n),Zin,np.ones(n)]).reshape(n,2,2,order='F')\n",
    "        \n",
    "    def transmission(self, freq, length, gamma, charImpedance):\n",
    "        n=np.size(freq)\n",
    "        t11 = np.cosh(gamma * length)\n",
    "        t12 = charImpedance * np.sinh(gamma * length)\n",
    "        t21 = (1/charImpedance) * np.sinh(gamma * length)\n",
    "        t22 = np.cosh(gamma * length)\n",
    "        return np.append(t11*np.ones(n),[t21*np.ones(n),t12*np.ones(n),t22*np.ones(n)]) \\\n",
    "            .reshape(n,2,2,order='F')\n",
    "    \n",
    "    def abcd(self, input, transmission, output):\n",
    "        return input*transmission*output\n",
    "    \n",
    "    def s21(self, pABCD, loadResistance):\n",
    "        A = pABCD[:,0,0]\n",
    "        B = pABCD[:,0,1]\n",
    "        C = pABCD[:,1,0]\n",
    "        D = pABCD[:,1,1]\n",
    "        RL = loadResistance\n",
    "        return 2/( A + (B/RL)+ (C*RL) + D )\n"
   ]
  },
  {
   "cell_type": "code",
   "execution_count": 52,
   "metadata": {
    "collapsed": false
   },
   "outputs": [],
   "source": [
    "length=7186E-6\n",
    "alpha=1.0E-3\n",
    "beta=1.0E-4\n",
    "couplingCapacitance=10E-15\n",
    "charImpedance=50\n",
    "loadResistance=50\n",
    "freqRange=[0.1E9,400.0E9]\n",
    "freqStep=0.1E9"
   ]
  },
  {
   "cell_type": "code",
   "execution_count": 53,
   "metadata": {
    "collapsed": false
   },
   "outputs": [],
   "source": [
    "abcd=ABCD(length, alpha, beta, couplingCapacitance, charImpedance, loadResistance, freqRange, freqStep)\n",
    "data=abcd.s21"
   ]
  },
  {
   "cell_type": "code",
   "execution_count": 55,
   "metadata": {
    "collapsed": false
   },
   "outputs": [
    {
     "data": {
      "image/png": "[encoded data removed]",
      "text/plain": [
       "<matplotlib.figure.Figure at 0xa3f6eb8>"
      ]
     },
     "metadata": {},
     "output_type": "display_data"
    }
   ],
   "source": [
    "plt.plot(abcd.freq/10**9, np.imag(data))\n",
    "plt.xlabel('Frequency (GHz)')\n",
    "plt.ylabel('Transmission, S12')\n",
    "plt.grid()"
   ]
  },
  {
   "cell_type": "code",
   "execution_count": null,
   "metadata": {
    "collapsed": false
   },
   "outputs": [],
   "source": []
  },
  {
   "cell_type": "code",
   "execution_count": null,
   "metadata": {
    "collapsed": true
   },
   "outputs": [],
   "source": []
  }
 ],
 "metadata": {
  "anaconda-cloud": {},
  "kernelspec": {
   "display_name": "Python [Root]",
   "language": "python",
   "name": "Python [Root]"
  },
  "language_info": {
   "codemirror_mode": {
    "name": "ipython",
    "version": 2
   },
   "file_extension": ".py",
   "mimetype": "text/x-python",
   "name": "python",
   "nbconvert_exporter": "python",
   "pygments_lexer": "ipython2",
   "version": "2.7.12"
  }
 },
 "nbformat": 4,
 "nbformat_minor": 1
}
