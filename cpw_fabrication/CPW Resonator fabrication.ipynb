{
 "cells": [
  {
   "cell_type": "markdown",
   "metadata": {},
   "source": [
    "# Fabrication of resonators"
   ]
  },
  {
   "cell_type": "markdown",
   "metadata": {},
   "source": [
    "## Openning remarks\n",
    "\n",
    "In this notebook I will discuss and document my fabrication process of the superconducting co-planar waveguide (CPW) resonators for use in the hyrbid Rydberg-cQED experiment. The fabrication is being conducted in the LCN cleanroom."
   ]
  },
  {
   "cell_type": "markdown",
   "metadata": {},
   "source": [
    "## 1 - Test run\n",
    "\n",
    "In order to become familiar with the cleanroom equipment I decided to carry out a test run on an inexpensive wafer. This also allows me to tweak the fabrication steps in order to optimise the results.\n",
    "\n",
    "### 1-1 Fabrication steps\n",
    "\n",
    "The processing steps, along with their corresponding parameters are detailed below,"
   ]
  },
  {
   "cell_type": "markdown",
   "metadata": {},
   "source": [
    "- ### Wafer cleaning\n",
    "  - Chemical cleaning\n",
    "    - Sonicator with Acetone for 5 minutes\n",
    "    - Repeat with IPA (2-propanol)\n",
    "    - Rinse with DI water and blow dry with Nitrogen gun\n",
    "  - Plasma cleaning\n",
    "    - Use: Diener Plasma Asher (Used primarily for removing organic materials such as photoresist)\n",
    "    - Clean for 10 minutes in O2 enviroment for 10 minutes\n",
    "    \n",
    "- ### Sputtering\n",
    "  - Use: SVS Sputter System\n",
    "  - 100nm recipe (see Table 1)\n",
    "\n",
    "- ### Spin coating\n",
    "  - Use: S1805 photoresist\n",
    "  - Use: G3P-8 Spinner: \n",
    "    - Pre-spin to make sure vacuum seal is good\n",
    "    - Coat the entire wafer (No bubbles)\n",
    "    - Do this relatively quickly, so that the photoresist doesn't start to dry\n",
    "    - Use spin recipe 4\n",
    "  - Hot plate\n",
    "    - 60 seconds @ 115$^o$C\n",
    "  - To remove photoresist\n",
    "    - Pre-UV: Standard acetone clean\n",
    "    - Post-UV: Piranha clean\n",
    "    \n",
    "- ### Mask aligner\n",
    "  - Use: Quintel Mask Aligner\n",
    "  - Read UV light power, $P_{UV}$ from table (typical for Quintel, ~8 $mW/cm^2$)\n",
    "  - Decide on Exposure energy, $E_{Exposure}$ (usually ~20 $mJ/cm^2$)\n",
    "    - x1.5 for reflective substrates such as Silicon\n",
    "  - Calculate exposure time using, $T_{Exposure}=E_{Exposure} (mJ/cm^2) / P_{UV} (mW/cm^2)$\n",
    "\n",
    "- ### Developing\n",
    "  - Develop with MF-26A (S1805)\n",
    "  - 60 seconds, mild agitation\n",
    "  - Rinse thoroughly with DI and Nitrogen blow dry\n",
    "\n",
    "- ### Characterisation\n",
    "  - Microscope:\n",
    "    - To check that the photoresist has been sufficiently developed\n",
    "  - DektakXT\n",
    "    - In order to monitor the thickness of the remaining photoresist\n",
    "    \n",
    "- ### Dry etching\n",
    "  - Use: Oxford Inst. Reactive Ion Etcher (RIE)\n",
    "  - 100nm recipe (see Table 2)\n",
    "  \n",
    "- ### Characterisation\n",
    "  - As before\n",
    "  \n",
    "- ### Dicing saw\n",
    "  - To dice full wafer into individual resonators\n",
    "  - Use spin coating as a protective layer\n",
    "  \n",
    "- ### Chemical cleaning\n",
    "  - To remove remaining photoresist\n",
    "\n",
    "- ### Wire bonding\n",
    "  - To attach to PCB\n",
    "  - Aluminium wires\n",
    "  - Bound grounds\n",
    "  - 2-3 wires per pad\n",
    "  - Short and low bonds"
   ]
  },
  {
   "cell_type": "markdown",
   "metadata": {},
   "source": [
    "Parameter 1 | Parameter 2 | Parameter 3\n",
    "--- | --- | ---\n",
    "||\n",
    "<h6 align=\"center\">Table 1</h6> \n",
    "\n",
    "Parameter 1 | Parameter 2 | Parameter 3\n",
    "--- | --- | ---\n",
    "||\n",
    "<h6 align=\"center\">Table 2</h6> "
   ]
  },
  {
   "cell_type": "markdown",
   "metadata": {},
   "source": [
    "### 1-2 Results"
   ]
  },
  {
   "cell_type": "markdown",
   "metadata": {},
   "source": [
    "<table align=\"center\">\n",
    "<tr>\n",
    "  <th><img src=\"../design/figures/mask-design-wafer-2.png\" style=\"width: 500px; margin-bottom: 0px;\">Mask</th>\n",
    "</tr>      \n",
    "</table>"
   ]
  },
  {
   "cell_type": "markdown",
   "metadata": {},
   "source": [
    "<table align=\"center\">\n",
    "<tr>\n",
    "  <th><img src=\"figures/M1-Test-PreEtch.jpg\" style=\"width: 500px; margin-bottom: 0px;\">Pre-etch</th>\n",
    "  <th><img src=\"figures/M1-Test-PostEtch.jpg\" style=\"width: 500px; margin-bottom: 0px;\">Post-etch</th>\n",
    "</tr>      \n",
    "</table>"
   ]
  },
  {
   "cell_type": "markdown",
   "metadata": {},
   "source": [
    "<table align=\"center\">\n",
    "<tr>\n",
    "  <th><img src=\"figures/22-02-17-Mask-M1-Coupler-x50-PreClean.jpg\" style=\"width: 500px; margin-bottom: 0px;\">Mask (coupler) pre-clean</th>\n",
    "  <th><img src=\"figures/22-02-17-Mask-M1-Coupler-x50-PostClean.jpg\" style=\"width: 500px; margin-bottom: 0px;\">Mask (coupler) post-clean</th>\n",
    "</tr>      \n",
    "</table>"
   ]
  },
  {
   "cell_type": "markdown",
   "metadata": {},
   "source": [
    "<table align=\"center\">\n",
    "<tr>\n",
    "  <th><img src=\"figures/22-02-17-TestWafer-M1-PostDevelop-Coupler-x50.jpg\" style=\"width: 800px; margin-bottom: 0px;\">Test wafer (coupler)</th>\n",
    "</tr>      \n",
    "</table>"
   ]
  },
  {
   "cell_type": "code",
   "execution_count": null,
   "metadata": {
    "collapsed": true
   },
   "outputs": [],
   "source": []
  }
 ],
 "metadata": {
  "anaconda-cloud": {},
  "kernelspec": {
   "display_name": "Python [Root]",
   "language": "python",
   "name": "Python [Root]"
  },
  "language_info": {
   "codemirror_mode": {
    "name": "ipython",
    "version": 2
   },
   "file_extension": ".py",
   "mimetype": "text/x-python",
   "name": "python",
   "nbconvert_exporter": "python",
   "pygments_lexer": "ipython2",
   "version": "2.7.12"
  }
 },
 "nbformat": 4,
 "nbformat_minor": 0
}
