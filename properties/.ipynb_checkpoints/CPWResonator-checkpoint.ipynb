{
 "cells": [
  {
   "cell_type": "markdown",
   "metadata": {},
   "source": [
    "# Design and simulation of superconducting co-planar waveguide resonators"
   ]
  },
  {
   "cell_type": "markdown",
   "metadata": {},
   "source": [
    "## 1 - Calculating of CPW resonator properties"
   ]
  },
  {
   "cell_type": "markdown",
   "metadata": {},
   "source": [
    "The equations used within this notebook and their corresponding references can be found in this document,\n",
    "[REF]"
   ]
  },
  {
   "cell_type": "markdown",
   "metadata": {},
   "source": [
    "### Imports"
   ]
  },
  {
   "cell_type": "code",
   "execution_count": 175,
   "metadata": {
    "collapsed": true
   },
   "outputs": [],
   "source": [
    "from scipy.special import ellipk\n",
    "import math\n",
    "from tabulate import tabulate\n",
    "import numpy as np\n",
    "import cmath\n",
    "\n",
    "import matplotlib.pyplot as plt\n",
    "%matplotlib inline\n",
    "\n",
    "from IPython.display import Image\n",
    "from IPython.display import HTML, display"
   ]
  },
  {
   "cell_type": "markdown",
   "metadata": {},
   "source": [
    "### Classes"
   ]
  },
  {
   "cell_type": "code",
   "execution_count": 8,
   "metadata": {
    "collapsed": true
   },
   "outputs": [],
   "source": [
    "class Conductor:\n",
    "    \"\"\"CPW conductor material class\"\"\"\n",
    "\n",
    "    def __init__(self, material, criticalTemperature, londonPenetrationDepthZero, resistancePerUnitLength,\n",
    "                 conductancePerUnitLength, amplitudeAttenuationPerUnitLength):\n",
    "        self.material = material\n",
    "        self.criticalTemperature = criticalTemperature\n",
    "        self.londonPenetrationDepthZero = londonPenetrationDepthZero\n",
    "        self.resistancePerUnitLength = resistancePerUnitLength\n",
    "        self.conductancePerUnitLength = conductancePerUnitLength\n",
    "        self.amplitudeAttenuationPerUnitLength = amplitudeAttenuationPerUnitLength"
   ]
  },
  {
   "cell_type": "code",
   "execution_count": 9,
   "metadata": {
    "collapsed": true
   },
   "outputs": [],
   "source": [
    "class Substrate:\n",
    "    \"\"\"Substrate material class\"\"\"\n",
    "\n",
    "    def __init__(self, material, relativePermittivity):\n",
    "        self.material = material\n",
    "        self.relativePermittivity = relativePermittivity"
   ]
  },
  {
   "cell_type": "code",
   "execution_count": 100,
   "metadata": {
    "collapsed": false
   },
   "outputs": [],
   "source": [
    "class CPWResonator:\n",
    "    \"\"\"Coplanar wave-guide resonator class\"\"\"\n",
    "\n",
    "    def __init__(self, length, conductorWidth, gapWidth, conductorThickness, resonatorType,\n",
    "                 conductorMaterial='Niobium', substrateMaterial='Silicon',\n",
    "                 temperature=4, couplingCapacitance=0E0, loadImpedance=50, loadBoundaryCondition='Short', modes=1):\n",
    "        # Supplied parameters\n",
    "        self.length = np.array(length)\n",
    "        self.conductorWidth = np.array(conductorWidth)\n",
    "        self.gapWidth = np.array(gapWidth)\n",
    "        self.conductorThickness = np.array(conductorThickness)\n",
    "        self.resonatorType = np.array(resonatorType)\n",
    "        self.conductor = self.conductorProperties(conductorMaterial)\n",
    "        self.substrate = self.substrateProperties(substrateMaterial)\n",
    "        self.temperature = np.array(temperature)\n",
    "        self.couplingCapacitance = np.array(couplingCapacitance)\n",
    "        self.loadImpedance = np.array(loadImpedance)\n",
    "        self.loadBoundaryCondition = np.array(loadBoundaryCondition)\n",
    "        self.modes = np.array(modes)\n",
    "\n",
    "        # Calculated parameters\n",
    "        self.effectivePermittivity = self.effectivePermittivity(self.substrate.relativePermittivity)\n",
    "        self.capacitancePerUnitLength = self.capacitancePerUnitLength(self.conductorWidth, self.gapWidth, self.effectivePermittivity)\n",
    "        self.geometricInducatancePerUnitLength = self.geometricInducatancePerUnitLength(self.conductorWidth, self.gapWidth)\n",
    "        self.kineticInductancePerUnitLength = self.kineticInductancePerUnitLength(self.conductorWidth, self.gapWidth, self.conductorThickness,\n",
    "            self.temperature, self.conductor.criticalTemperature, self.conductor.londonPenetrationDepthZero)\n",
    "        self.totalInductancePerUnitLength = self.geometricInducatancePerUnitLength + self.kineticInductancePerUnitLength\n",
    "        self.characteristicImpedance = self.characteristicImpedance(self.totalInductancePerUnitLength, self.capacitancePerUnitLength)\n",
    "        self.uncoupledResonantFrequency = self.uncoupledResonantFrequency(self.totalInductancePerUnitLength, self.capacitancePerUnitLength, self.length,\n",
    "            self.resonatorType, self.modes)\n",
    "        self.coupledResonantFrequency = self.coupledResonantFrequency(self.totalInductancePerUnitLength, self.capacitancePerUnitLength, self.length,\n",
    "            self.resonatorType, self.couplingCapacitance, self.loadImpedance, self.modes)\n",
    "        self.inputImpedance = self.inputImpedance(self.length, self.characteristicImpedance, self.loadBoundaryCondition,\n",
    "            self.totalInductancePerUnitLength, self.capacitancePerUnitLength, self.uncoupledResonantFrequency)\n",
    "        self.internalQualityFactor = self.internalQualityFactor(self.length, self.resonatorType, self.modes, self.conductor)\n",
    "        self.externalQualityFactorApprox = self.externalQualityFactorApproxFn(self.resonatorType, self.modes, self.uncoupledResonantFrequency,\n",
    "            self.couplingCapacitance, self.characteristicImpedance)\n",
    "        self.externalQualityFactor = self.externalQualityFactorFn(self.uncoupledResonantFrequency,\n",
    "            self.capacitancePerUnitLength, self.length, self.couplingCapacitance)\n",
    "        self.externalQualityFactorQWref = self.externalQualityFactorQWrefFn(self.resonatorType, self.modes, self.uncoupledResonantFrequency, self.capacitancePerUnitLength, self.length, \n",
    "            self.couplingCapacitance, self.characteristicImpedance)\n",
    "        self.loadedQualityFactor = self.loadedQualityFactor(self.internalQualityFactor, self.externalQualityFactor)\n",
    "        self.insertionLoss = self.insertionLoss(self.internalQualityFactor, self.externalQualityFactor)\n",
    "        self.beta = self.beta(self.uncoupledResonantFrequency, self.totalInductancePerUnitLength, self.capacitancePerUnitLength)\n",
    "\n",
    "    def effectivePermittivity(self, relativePermittivity):\n",
    "        return (1 + relativePermittivity)/2\n",
    "\n",
    "    def capacitancePerUnitLength(self, conductorWidth, gapWidth, effectivePermittivity):\n",
    "        # Permittivity of free space\n",
    "        freeSpacePermittivity = 8.85418782E-12\n",
    "\n",
    "        # Complete elliptic integral of the first kind\n",
    "        k = conductorWidth / (conductorWidth + 2 * gapWidth)\n",
    "        k2 = np.sqrt(1 - np.power(k,2))\n",
    "\n",
    "        # Total CPW capacitance p.u.l.\n",
    "        return 4 * freeSpacePermittivity * (effectivePermittivity + 0) * (ellipk(k) / ellipk(k2))\n",
    "\n",
    "    def geometricInducatancePerUnitLength(self, conductorWidth, gapWidth):\n",
    "        # Permeability of freespace\n",
    "        freeSpacePermeability = 1.25663706E-6\n",
    "\n",
    "        # Complete elliptic integral of the first kind\n",
    "        k = conductorWidth / (conductorWidth + 2 * gapWidth)\n",
    "        k2 = np.sqrt(1 - np.power(k,2))\n",
    "\n",
    "        # Total conductor geometric inductance p.u.l.\n",
    "        return (freeSpacePermeability / 4) * (ellipk(k2) / ellipk(k))\n",
    "\n",
    "    def kineticInductancePerUnitLength(self, conductorWidth, gapWidth, conductorThickness,\n",
    "                          temperature, criticalTemperature, londonPenetrationDepthZero):\n",
    "        # Permeability of freespace\n",
    "        freeSpacePermeability = 1.25663706E-6\n",
    "\n",
    "        # Complete elliptic integral of the first kind\n",
    "        k = conductorWidth / (conductorWidth + 2 * gapWidth)\n",
    "        K = ellipk(k)\n",
    "\n",
    "        # Penetration depth at temperature T\n",
    "        londonPenetrationDepthT = self.londonPenetrationDepthT(temperature, criticalTemperature, londonPenetrationDepthZero)\n",
    "\n",
    "        # Geometrical factor\n",
    "        geometricFactor = (1 / (2 * np.power(k, 2) * np.power(K, 2))) * (\n",
    "            - np.log(conductorThickness / (4 * conductorWidth)) + ((2 * (conductorWidth + gapWidth))\n",
    "            / (conductorWidth + 2 * gapWidth)) * np.log(gapWidth / (conductorWidth + gapWidth)) - (\n",
    "            conductorWidth / (conductorWidth + 2 * gapWidth)) * np.log(conductorThickness\n",
    "            / (4 * (conductorWidth + 2 * gapWidth))))\n",
    "\n",
    "        # Kinetic Inductance p.u.l.\n",
    "        return freeSpacePermeability * (np.power(londonPenetrationDepthT, 2) / (conductorWidth * conductorThickness)) * geometricFactor\n",
    "\n",
    "\n",
    "    def londonPenetrationDepthT(self, temperature, criticalTemperature, londonPenetrationDepthZero):\n",
    "        return londonPenetrationDepthZero / np.sqrt(1 - np.power((temperature / criticalTemperature), 4))\n",
    "\n",
    "    def characteristicImpedance(self, inductance, capacitance, resistance=0, conductance=0, frequency=1):\n",
    "        return np.sqrt(\n",
    "            (resistance + 1j*2*math.pi*frequency*inductance ) /\n",
    "            (conductance + 1j*2*math.pi*frequency*capacitance))\n",
    "\n",
    "    def inputImpedance(self, length, characteristicImpedance, loadBoundaryCondition, inductancePerUnitLength, capacitancePerUnitLength, frequency,\n",
    "                       resistancePerUnitLength=0, conductancePerUnitLength=0):\n",
    "        gamma = np.sqrt(\n",
    "            (resistancePerUnitLength + 1j*2*math.pi*frequency*inductancePerUnitLength ) *\n",
    "            (conductancePerUnitLength + 1j*2*math.pi*frequency*capacitancePerUnitLength))\n",
    "\n",
    "        if loadBoundaryCondition == 'Short':\n",
    "            return characteristicImpedance * np.tanh(gamma*length)\n",
    "        elif loadBoundaryCondition == 'Open':\n",
    "            return characteristicImpedance / np.tanh(gamma * length)\n",
    "        else:\n",
    "            print('Error: Load boundary condition no valid!')\n",
    "            return -1\n",
    "\n",
    "    def uncoupledResonantFrequency(self, totalInductancePerUnitLength, capacitancePerUnitLength, length, resonatorType, modes):\n",
    "        m = self.getModeFactor(resonatorType, modes)\n",
    "        return 1 / (np.sqrt(totalInductancePerUnitLength*capacitancePerUnitLength) * m * length)\n",
    "\n",
    "    def coupledResonantFrequency(self, totalInductancePerUnitLength, capacitancePerUnitLength, length, resonatorType, couplingCapacitance, loadImpedane, modes):\n",
    "        m = self.getModeFactor(resonatorType, modes)\n",
    "\n",
    "        # Pre-coupled\n",
    "        uncoupledResonantFrequency = 1 / (np.sqrt(totalInductancePerUnitLength*capacitancePerUnitLength) * m * length)\n",
    "\n",
    "        # Post-coupled\n",
    "        effectiveCouplingCapacitance = self.effectiveCouplingCapacitance(couplingCapacitance, uncoupledResonantFrequency, loadImpedane)\n",
    "\n",
    "        return 1 / (np.sqrt((totalInductancePerUnitLength*length) * ((capacitancePerUnitLength*length) + effectiveCouplingCapacitance)) * m)\n",
    "\n",
    "    def effectiveCouplingCapacitance(self, couplingCapacitance, frequency, loadImpedane):\n",
    "        return couplingCapacitance / \\\n",
    "               (1 + np.power(frequency * couplingCapacitance * loadImpedane * math.pi, 2))\n",
    "\n",
    "    def internalQualityFactor(self, length, resonatorType, modes, conductor):\n",
    "        m = self.getModeFactor(resonatorType, modes)\n",
    "        return (1/m) * (math.pi/(conductor.amplitudeAttenuationPerUnitLength*length))\n",
    "    \n",
    "    def externalQualityFactorFn(self, uncoupledResonantFrequency, capacitancePerUnitLength, length, couplingCapacitance, loadResistance=50):\n",
    "        omega_n = 2 * math.pi * uncoupledResonantFrequency\n",
    "        r_star = (1+(omega_n*couplingCapacitance*loadResistance)**2) / ((omega_n*couplingCapacitance)**2 * loadResistance)\n",
    "        C = (capacitancePerUnitLength * length)/2\n",
    "        return omega_n * r_star * C\n",
    "\n",
    "    def externalQualityFactorApproxFn(self, resonatorType, modes, uncoupledResonantFrequency, couplingCapacitance, characteristicImpedance):\n",
    "        m = self.getModeFactor(resonatorType, modes)\n",
    "        q_in = 2 * math.pi * uncoupledResonantFrequency * couplingCapacitance * characteristicImpedance\n",
    "        return (1/m) * (math.pi/(q_in**2))\n",
    "\n",
    "    def externalQualityFactorQWrefFn(self, resonatorType, modes, uncoupledResonantFrequency, capacitancePerUnitLength, length, couplingCapacitance, characteristicImpedance):\n",
    "        m = self.getModeFactor(resonatorType, modes)\n",
    "        omega_0 = 2 * math.pi * uncoupledResonantFrequency\n",
    "        inputPortImpedance = 50\n",
    "        mBody = 1/(omega_0**2 * couplingCapacitance**2 * characteristicImpedance * inputPortImpedance)\n",
    "        return (math.pi/m) * mBody\n",
    "    \n",
    "    def loadedQualityFactor(self, internalQualityFactor, externalQualityFactor):\n",
    "        return 1/((1/internalQualityFactor) + (1/externalQualityFactor))\n",
    "\n",
    "    def getModeFactor(self, resonatorType, modes):\n",
    "        if resonatorType == 'half':\n",
    "            m = 4.0 / (2.0 * modes)\n",
    "        elif resonatorType == 'quarter':\n",
    "            m = 4.0 / ((2.0 * modes) - 1)\n",
    "        else:\n",
    "            print('Error: Incorrect resonator type provided!')\n",
    "            return -1\n",
    "        return m\n",
    "\n",
    "    def insertionLoss(self, internalQualityFactor, externalQualityFactor):\n",
    "        g = internalQualityFactor/externalQualityFactor\n",
    "        return -20 * np.log10(g/(g+1))\n",
    "    \n",
    "    def beta(self, uncoupledResonantFrequency, inductancePerUnitLength, capacitancePerUnitLength):\n",
    "        omega_n = 2 * math.pi * uncoupledResonantFrequency\n",
    "        return omega_n * np.sqrt(inductancePerUnitLength*capacitancePerUnitLength)\n",
    "\n",
    "    def conductorProperties(self, material):\n",
    "        return{\n",
    "            'Niobium': Conductor(material=material, criticalTemperature=9.2, londonPenetrationDepthZero=33.3E-9,\n",
    "                resistancePerUnitLength=0, conductancePerUnitLength=0, amplitudeAttenuationPerUnitLength=0.0001),\n",
    "            'Niobium Nitride': Conductor(material=material, criticalTemperature=16.2, londonPenetrationDepthZero=40E-9,\n",
    "                resistancePerUnitLength=0, conductancePerUnitLength=0, amplitudeAttenuationPerUnitLength=0.0001),\n",
    "        }[material]\n",
    "\n",
    "    def substrateProperties(self, material):\n",
    "        return{\n",
    "            'Silicon': Substrate(material=material, relativePermittivity=11.9),\n",
    "            'Sapphire': Substrate(material=material, relativePermittivity=10.2),\n",
    "        }[material]"
   ]
  },
  {
   "cell_type": "markdown",
   "metadata": {},
   "source": [
    "## ABCD Transmission matrix"
   ]
  },
  {
   "cell_type": "code",
   "execution_count": 101,
   "metadata": {
    "collapsed": true
   },
   "outputs": [],
   "source": [
    "class ABCD:\n",
    "    'ABCD matrix method'\n",
    "\n",
    "    def __init__(self, freq, length, alpha, beta, couplingCapacitance, charImpedance, loadResistance=50):\n",
    "        self.freq = freq\n",
    "        self.length = length\n",
    "        self.gamma = alpha + 1j*beta\n",
    "        self.couplingCapacitance = couplingCapacitance\n",
    "        self.charImpedance = charImpedance\n",
    "        self.loadResistance = loadResistance\n",
    "        \n",
    "        self.s21 = self.s21(self.abcd(\n",
    "            self.input(self.freq, self.couplingCapacitance),\n",
    "            self.transmission(self.freq, self.length, self.gamma, self.charImpedance),\n",
    "            self.output(self.freq, self.couplingCapacitance)),\n",
    "            self.loadResistance)\n",
    "\n",
    "    def input(self, freq, couplingCapacitance):\n",
    "        n=np.size(freq)\n",
    "        Zin = 1/(1j*freq*couplingCapacitance)\n",
    "        return np.append(np.ones(n),[np.zeros(n),Zin,np.ones(n)]).reshape(n,2,2,order='F')\n",
    "        \n",
    "    def output(self, freq, couplingCapacitance):\n",
    "        n=np.size(freq)\n",
    "        Zin = 1/(1j*freq*couplingCapacitance)\n",
    "        return np.append(np.ones(n),[np.zeros(n),Zin,np.ones(n)]).reshape(n,2,2,order='F')\n",
    "        \n",
    "    def transmission(self, freq, length, gamma, charImpedance):\n",
    "        n=np.size(freq)\n",
    "        t11 = np.cosh(gamma * length)\n",
    "        t12 = charImpedance * np.sinh(gamma * length)\n",
    "        t21 = (1/charImpedance) * np.sinh(gamma * length)\n",
    "        t22 = np.cosh(gamma * length)\n",
    "        return np.append(t11*np.ones(n),[t21*np.ones(n),t12*np.ones(n),t22*np.ones(n)]) \\\n",
    "            .reshape(n,2,2,order='F')\n",
    "    \n",
    "    def abcd(self, input, transmission, output):\n",
    "        return input*transmission*output\n",
    "    \n",
    "    def s21(self, pABCD, loadResistance):\n",
    "        A = pABCD[:,0,0]\n",
    "        B = pABCD[:,0,1]\n",
    "        C = pABCD[:,1,0]\n",
    "        D = pABCD[:,1,1]\n",
    "        RL = loadResistance\n",
    "        return 2/( A + (B/RL)+ (C*RL) + D )"
   ]
  },
  {
   "cell_type": "markdown",
   "metadata": {},
   "source": [
    "# 2 - Relationships between CPW resonator properties"
   ]
  },
  {
   "cell_type": "markdown",
   "metadata": {},
   "source": [
    "## Default values"
   ]
  },
  {
   "cell_type": "code",
   "execution_count": 102,
   "metadata": {
    "collapsed": true
   },
   "outputs": [],
   "source": [
    "default = {'length': 7186E-6,\n",
    "           'conductorWidth': [20E-6],\n",
    "           'gapWidth': 10E-6,\n",
    "           'conductorThickness': 100E-9,\n",
    "           'resonatorType': 'quarter',\n",
    "           'conductorMaterial': 'Niobium Nitride',\n",
    "           'substrateMaterial': 'Silicon',\n",
    "           'temperature': 4,\n",
    "           'couplingCapacitance': 10E-15,\n",
    "           'loadBoundaryCondition': 'Short',\n",
    "           'modes': [1]}"
   ]
  },
  {
   "cell_type": "markdown",
   "metadata": {},
   "source": [
    "## Single value parameters - all properties"
   ]
  },
  {
   "cell_type": "code",
   "execution_count": 103,
   "metadata": {
    "collapsed": false
   },
   "outputs": [
    {
     "name": "stdout",
     "output_type": "stream",
     "text": [
      "Property                          Value              Units\n",
      "--------------------------------  -----------------  -------\n",
      "Effective permittivity            6.45               -\n",
      "Substrate capacitance             [ 173.487]         pF/m\n",
      "Geometric Inductance              [  4.137e-07]      H/m\n",
      "Kinetic Inductance                [  5.123e-09]      H/m\n",
      "Characteristic Impedance          [ 49.132+0.j]      Ohms\n",
      "Input Impedance                   [ 0. +8.024e+17j]  Ohms\n",
      "Resonant frequency (Uncoupled)    [ 4.082]           Ghz\n",
      "Resonant frequency (Coupled)      [ 4.065]           Ghz\n",
      "Internal Quality factor           [ 1092955.975]     -\n",
      "External Quality factor           [ 4862.109]        -\n",
      "External Quality factor [Approx]  [ 4947.192+0.j]    -\n",
      "Loaded Quality factor             [ 4840.575]        -\n",
      "Insertion loss                    [ 0.039]           dB\n"
     ]
    }
   ],
   "source": [
    "mCPW = CPWResonator(length=default['length'], \n",
    "                    conductorWidth=default['conductorWidth'], \n",
    "                    gapWidth=default['gapWidth'], \n",
    "                    conductorThickness=default['conductorThickness'],\n",
    "                    resonatorType=default['resonatorType'], \n",
    "                    conductorMaterial=default['conductorMaterial'], \n",
    "                    substrateMaterial=default['substrateMaterial'],\n",
    "                    temperature=default['temperature'], \n",
    "                    couplingCapacitance=default['couplingCapacitance'], \n",
    "                    loadBoundaryCondition=default['loadBoundaryCondition'], \n",
    "                    modes=default['modes'])\n",
    "\n",
    "np.set_printoptions(precision=3)\n",
    "print(tabulate(\n",
    "    [['Effective permittivity', mCPW.effectivePermittivity, '-'],\n",
    "     ['Substrate capacitance', mCPW.capacitancePerUnitLength * 10**12, 'pF/m'],\n",
    "     ['Geometric Inductance', mCPW.geometricInducatancePerUnitLength, 'H/m'],\n",
    "     ['Kinetic Inductance', mCPW.kineticInductancePerUnitLength, 'H/m'],\n",
    "     ['Characteristic Impedance', mCPW.characteristicImpedance, 'Ohms'],\n",
    "     ['Input Impedance', mCPW.inputImpedance, 'Ohms'],\n",
    "     ['Resonant frequency (Uncoupled)', mCPW.uncoupledResonantFrequency / 10**9, 'Ghz'],\n",
    "     ['Resonant frequency (Coupled)', mCPW.coupledResonantFrequency / 10**9, 'Ghz'],\n",
    "     ['Internal Quality factor', mCPW.internalQualityFactor, '-'],\n",
    "     ['External Quality factor', mCPW.externalQualityFactor, '-'],\n",
    "     ['External Quality factor [Approx]', mCPW.externalQualityFactorApprox, '-'],\n",
    "     ['Loaded Quality factor', mCPW.loadedQualityFactor, '-'],\n",
    "     ['Insertion loss', mCPW.insertionLoss, 'dB']],\n",
    "    headers=['Property', 'Value', 'Units'], floatfmt=\".2f\"))"
   ]
  },
  {
   "cell_type": "markdown",
   "metadata": {},
   "source": [
    "## Multi-value parameters"
   ]
  },
  {
   "cell_type": "markdown",
   "metadata": {},
   "source": [
    "### Uncoupled fundamental resonant frequency as a function of resonator length"
   ]
  },
  {
   "cell_type": "code",
   "execution_count": 104,
   "metadata": {
    "collapsed": false
   },
   "outputs": [
    {
     "data": {
      "image/png": "[encoded data removed]",
      "text/plain": [
       "<matplotlib.figure.Figure at 0xb045048>"
      ]
     },
     "metadata": {},
     "output_type": "display_data"
    }
   ],
   "source": [
    "minLen = 5000E-6\n",
    "maxLen = 20000E-6\n",
    "length = np.linspace(minLen, maxLen,100)\n",
    "\n",
    "mCPW = CPWResonator(length=length, \n",
    "                    conductorWidth=default['conductorWidth'], \n",
    "                    gapWidth=default['gapWidth'], \n",
    "                    conductorThickness=default['conductorThickness'],\n",
    "                    resonatorType=default['resonatorType'], \n",
    "                    conductorMaterial=default['conductorMaterial'], \n",
    "                    substrateMaterial=default['substrateMaterial'],\n",
    "                    temperature=default['temperature'], \n",
    "                    couplingCapacitance=default['couplingCapacitance'], \n",
    "                    loadBoundaryCondition=default['loadBoundaryCondition'], \n",
    "                    modes=default['modes'])\n",
    "\n",
    "plt.plot(length* 10**6, mCPW.uncoupledResonantFrequency / 10**9)\n",
    "plt.xlabel('Length ($\\mu m$)')\n",
    "plt.ylabel('Uncoupled resonant frequency, $f_0$ (GHz)') \n",
    "plt.grid()"
   ]
  },
  {
   "cell_type": "markdown",
   "metadata": {},
   "source": [
    "### Uncoupled fundamental resonant frequency as a function of temperature"
   ]
  },
  {
   "cell_type": "code",
   "execution_count": 105,
   "metadata": {
    "collapsed": false
   },
   "outputs": [
    {
     "data": {
      "image/png": "[encoded data removed]",
      "text/plain": [
       "<matplotlib.figure.Figure at 0xbb67eb8>"
      ]
     },
     "metadata": {},
     "output_type": "display_data"
    }
   ],
   "source": [
    "minTemp = 0\n",
    "maxTemp = 12\n",
    "temperature = np.linspace(minTemp, maxTemp,100)\n",
    "\n",
    "mCPW = CPWResonator(length=default['length'], \n",
    "                    conductorWidth=default['conductorWidth'], \n",
    "                    gapWidth=default['gapWidth'], \n",
    "                    conductorThickness=default['conductorThickness'],\n",
    "                    resonatorType=default['resonatorType'], \n",
    "                    conductorMaterial=default['conductorMaterial'], \n",
    "                    substrateMaterial=default['substrateMaterial'],\n",
    "                    temperature=temperature, \n",
    "                    couplingCapacitance=default['couplingCapacitance'], \n",
    "                    loadBoundaryCondition=default['loadBoundaryCondition'], \n",
    "                    modes=default['modes'])\n",
    "\n",
    "plt.plot(temperature, mCPW.uncoupledResonantFrequency / 10**9)\n",
    "plt.xlabel('Temperature, $T$ (K)')\n",
    "plt.ylabel('Uncoupled resonant frequency, $f_0$ (GHz)') \n",
    "plt.grid()"
   ]
  },
  {
   "cell_type": "markdown",
   "metadata": {},
   "source": [
    "### Coupled resonant frequency as a function of coupling capacitance"
   ]
  },
  {
   "cell_type": "code",
   "execution_count": 149,
   "metadata": {
    "collapsed": false
   },
   "outputs": [
    {
     "data": {
      "image/png": "[encoded data removed]",
      "text/plain": [
       "<matplotlib.figure.Figure at 0xd0a3278>"
      ]
     },
     "metadata": {},
     "output_type": "display_data"
    }
   ],
   "source": [
    "minCap = 0.1E-15\n",
    "maxCap = 30E-15\n",
    "couplingCapacitance = np.linspace(minCap, maxCap,100)\n",
    "\n",
    "mCPW = CPWResonator(length=default['length'], \n",
    "                    conductorWidth=default['conductorWidth'], \n",
    "                    gapWidth=default['gapWidth'], \n",
    "                    conductorThickness=default['conductorThickness'],\n",
    "                    resonatorType=default['resonatorType'], \n",
    "                    conductorMaterial=default['conductorMaterial'], \n",
    "                    substrateMaterial=default['substrateMaterial'],\n",
    "                    temperature=default['temperature'], \n",
    "                    couplingCapacitance=couplingCapacitance, \n",
    "                    loadBoundaryCondition=default['loadBoundaryCondition'], \n",
    "                    modes=default['modes'])\n",
    "\n",
    "plt.plot(couplingCapacitance* 10**15, mCPW.coupledResonantFrequency / 10**9)\n",
    "plt.xlabel('Coupling capacitance, $C_{\\kappa}$ (fF)')\n",
    "plt.ylabel('Coupled resonant frequency, $f_n$ (GHz)') \n",
    "plt.grid()"
   ]
  },
  {
   "cell_type": "markdown",
   "metadata": {},
   "source": [
    "### External quality factor and insertion loss as a function of coupling capacitance"
   ]
  },
  {
   "cell_type": "code",
   "execution_count": 150,
   "metadata": {
    "collapsed": false
   },
   "outputs": [
    {
     "data": {
      "image/png": "[encoded data removed]",
      "text/plain": [
       "<matplotlib.figure.Figure at 0xd0390b8>"
      ]
     },
     "metadata": {},
     "output_type": "display_data"
    }
   ],
   "source": [
    "minCap = 0.1E-15\n",
    "maxCap = 30E-15\n",
    "couplingCapacitance = np.linspace(minCap, maxCap,100)\n",
    "\n",
    "mCPW = CPWResonator(length=default['length'], \n",
    "                    conductorWidth=default['conductorWidth'], \n",
    "                    gapWidth=default['gapWidth'], \n",
    "                    conductorThickness=default['conductorThickness'],\n",
    "                    resonatorType=default['resonatorType'], \n",
    "                    conductorMaterial=default['conductorMaterial'], \n",
    "                    substrateMaterial=default['substrateMaterial'],\n",
    "                    temperature=default['temperature'], \n",
    "                    couplingCapacitance=couplingCapacitance, \n",
    "                    loadBoundaryCondition=default['loadBoundaryCondition'], \n",
    "                    modes=default['modes'])\n",
    "\n",
    "fig, ax1 = plt.subplots()\n",
    "plt.yscale('log')\n",
    "ax2 = ax1.twinx()\n",
    "ax1.plot(couplingCapacitance* 10**15, mCPW.externalQualityFactor, 'g-', label=\"Quality factor\")\n",
    "ax2.plot(couplingCapacitance* 10**15, mCPW.insertionLoss, 'b-', label=\"Insertion loss\")\n",
    "plt.yscale('log')\n",
    "\n",
    "ax1.set_xlabel('Coupling capacitance, $C_{\\kappa}$ (fF)')\n",
    "ax1.set_ylabel('External quality factor, $Q_{ext}$', color='g')\n",
    "ax2.set_ylabel('Insertion loss (dB)', color='b')\n",
    "plt.grid()"
   ]
  },
  {
   "cell_type": "markdown",
   "metadata": {},
   "source": [
    "### External quality factor as a function of harmonic mode"
   ]
  },
  {
   "cell_type": "code",
   "execution_count": 205,
   "metadata": {
    "collapsed": false
   },
   "outputs": [
    {
     "data": {
      "text/plain": [
       "<matplotlib.legend.Legend at 0xeef2f98>"
      ]
     },
     "execution_count": 205,
     "metadata": {},
     "output_type": "execute_result"
    },
    {
     "data": {
      "image/png": "[encoded data removed]",
      "text/plain": [
       "<matplotlib.figure.Figure at 0xe652748>"
      ]
     },
     "metadata": {},
     "output_type": "display_data"
    }
   ],
   "source": [
    "mCPW = CPWResonator(length=default['length'], \n",
    "                    conductorWidth=default['conductorWidth'], \n",
    "                    gapWidth=default['gapWidth'], \n",
    "                    conductorThickness=default['conductorThickness'],\n",
    "                    resonatorType=default['resonatorType'], \n",
    "                    conductorMaterial=default['conductorMaterial'], \n",
    "                    substrateMaterial=default['substrateMaterial'],\n",
    "                    temperature=default['temperature'], \n",
    "                    couplingCapacitance=default['couplingCapacitance'], \n",
    "                    loadBoundaryCondition=default['loadBoundaryCondition'], \n",
    "                    modes=[1,2,3,4,5])\n",
    "\n",
    "uncoupledResonantFrequency = np.linspace(3,40,100) * 10**9 \n",
    "externalQualityFactor = mCPW.externalQualityFactorFn(uncoupledResonantFrequency, \n",
    "                                                     mCPW.capacitancePerUnitLength, \n",
    "                                                     mCPW.length, \n",
    "                                                     mCPW.couplingCapacitance)\n",
    "\n",
    "plt.plot(uncoupledResonantFrequency/10**9, externalQualityFactor, 'r--', label=\"Fit\")\n",
    "plt.plot(mCPW.uncoupledResonantFrequency/10**9, mCPW.externalQualityFactor, 'bo', label=\"Main\")\n",
    "plt.plot(mCPW.uncoupledResonantFrequency/10**9, mCPW.externalQualityFactorApprox, 'yo', label=\"Approx\")\n",
    "plt.plot(mCPW.uncoupledResonantFrequency/10**9, mCPW.externalQualityFactorQWref, 'go', label=\"QW Ref\")\n",
    "plt.xlabel('Coupled resonant frequency, $f_n$ (GHz)')\n",
    "plt.ylabel('External quality factor, $Q_{ext}$')\n",
    "plt.grid()\n",
    "plt.legend()"
   ]
  },
  {
   "cell_type": "markdown",
   "metadata": {
    "collapsed": false
   },
   "source": [
    "## ABCD matrix plots"
   ]
  },
  {
   "cell_type": "code",
   "execution_count": 181,
   "metadata": {
    "collapsed": false
   },
   "outputs": [
    {
     "name": "stdout",
     "output_type": "stream",
     "text": [
      "('beta', array([ 218.591]))\n"
     ]
    }
   ],
   "source": [
    "mCPW = CPWResonator(length=default['length'], \n",
    "                    conductorWidth=default['conductorWidth'], \n",
    "                    gapWidth=default['gapWidth'], \n",
    "                    conductorThickness=default['conductorThickness'],\n",
    "                    resonatorType=default['resonatorType'], \n",
    "                    conductorMaterial=default['conductorMaterial'], \n",
    "                    substrateMaterial=default['substrateMaterial'],\n",
    "                    temperature=default['temperature'], \n",
    "                    couplingCapacitance=default['couplingCapacitance'], \n",
    "                    loadBoundaryCondition=default['loadBoundaryCondition'], \n",
    "                    modes=default['modes'])\n",
    "\n",
    "beta=1.0E-4\n",
    "freqRange=[0.1E9,400.0E9]\n",
    "freqStep=0.1E9\n",
    "frequency= np.arange(freqRange[0], freqRange[1], freqStep)\n",
    "\n",
    "print('beta', mCPW.beta)\n",
    "\n",
    "abcd=ABCD(frequency, \n",
    "          mCPW.length, \n",
    "          mCPW.conductor.amplitudeAttenuationPerUnitLength, \n",
    "          beta, # (The value of mCPW.beta is currently too high to give sensible results)\n",
    "          mCPW.couplingCapacitance, \n",
    "          mCPW.characteristicImpedance)\n",
    "data=abcd.s21"
   ]
  },
  {
   "cell_type": "markdown",
   "metadata": {},
   "source": [
    "### Transmission"
   ]
  },
  {
   "cell_type": "code",
   "execution_count": 182,
   "metadata": {
    "collapsed": false
   },
   "outputs": [
    {
     "data": {
      "text/plain": [
       "<matplotlib.legend.Legend at 0xe420fd0>"
      ]
     },
     "execution_count": 182,
     "metadata": {},
     "output_type": "execute_result"
    },
    {
     "data": {
      "image/png": "[encoded data removed]",
      "text/plain": [
       "<matplotlib.figure.Figure at 0xd020dd8>"
      ]
     },
     "metadata": {},
     "output_type": "display_data"
    }
   ],
   "source": [
    "plt.plot(abcd.freq/10**9, np.real(data), 'g-', label='real')\n",
    "plt.plot(abcd.freq/10**9, np.imag(data), 'r-', label='imaginary')\n",
    "plt.xlabel('Frequency (GHz)')\n",
    "plt.ylabel('Transmission, S12')\n",
    "plt.grid()\n",
    "plt.legend(loc='lower right')"
   ]
  },
  {
   "cell_type": "markdown",
   "metadata": {},
   "source": [
    "### Reflection"
   ]
  },
  {
   "cell_type": "code",
   "execution_count": 183,
   "metadata": {
    "collapsed": false
   },
   "outputs": [
    {
     "data": {
      "text/plain": [
       "<matplotlib.legend.Legend at 0xe724828>"
      ]
     },
     "execution_count": 183,
     "metadata": {},
     "output_type": "execute_result"
    },
    {
     "data": {
      "image/png": "[encoded data removed]",
      "text/plain": [
       "<matplotlib.figure.Figure at 0xe453d68>"
      ]
     },
     "metadata": {},
     "output_type": "display_data"
    }
   ],
   "source": [
    "plt.plot(abcd.freq/10**9, 1-np.real(data), 'g-', label='real')\n",
    "plt.plot(abcd.freq/10**9, 1-np.imag(data), 'r-', label='imaginary')\n",
    "plt.xlabel('Frequency (GHz)')\n",
    "plt.ylabel('Transmission, S12')\n",
    "plt.grid()\n",
    "plt.legend(loc='lower right')"
   ]
  },
  {
   "cell_type": "markdown",
   "metadata": {},
   "source": [
    "# 3 - Simulation of CPW resonator using AWR Microwave Studio"
   ]
  },
  {
   "cell_type": "markdown",
   "metadata": {},
   "source": [
    "AWR Microwave Studio is being used to analytically analyse the behaviour of an ideal quarter-wave co-planar waveguide superconducting microwave resonator. The schematic used to represent this system is shown in Figure 3.1 below,\n",
    "\n",
    "![title](AWR_QW_schematic.png)\n",
    "<h6 align=\"center\">Figure 3.1</h6> \n",
    "\n",
    "The important parameters are summarised in Table 3.1 below,\n",
    "\n",
    "  Parameter | Value | Unit\n",
    "  --- | --- | ---\n",
    "  Length | 7186 | $\\mu m$\n",
    "  Coupling capacitance, $C_{\\kappa}$ | 50 | $fF$\n",
    "  Conductor width, $W$ | 20 | $\\mu m$\n",
    "  Gap width, $s$ | 10 | $\\mu m$\n",
    "  Substrate | Silicon |\n",
    "  <h6 align=\"center\">Table 3.1</h6> "
   ]
  },
  {
   "cell_type": "markdown",
   "metadata": {},
   "source": [
    "The transmission $S_{12}$ and reflection $S_{11}$ between the two ports due to the presence of the resonator is calculated as,\n",
    "\n",
    "![title](AWR_QW_graph.png)\n",
    "<h6 align=\"center\">Figure 3.2</h6> "
   ]
  },
  {
   "cell_type": "markdown",
   "metadata": {},
   "source": [
    "This leaves two pieces of the puzzle left,\n",
    "- What value should be used for the coupling capacitance, $C_{\\kappa}$ \n",
    "- How to design a coupler with this capacitance\n",
    "\n",
    "The answer to the former comes down to a trade-off between external quality factor and insertion loss, as seen in one of the figures above. The range of obtainable coupling capacitances is also limited by fabrication restrictions. For example the minimum feature size of photo-lithogrpahy will be around 2-5 $\\mu m$ which with a coupler length of 300 $\\mu m$ leads to a coupling capacitance of 8-10 $fF$ (as discussed in the next section). Therefore in order to increase the coupling capacitance beyond these values the length of the coupler will need to be increased. However this is also limited because this length should be much less than $\\lambda /4$."
   ]
  },
  {
   "cell_type": "markdown",
   "metadata": {},
   "source": [
    "## Calculation of coupling capacitance using CST EM Studio"
   ]
  },
  {
   "cell_type": "markdown",
   "metadata": {},
   "source": [
    "In order to design a coupler with a desired capacitance, it is necessary to use a finite element similuation such as CST EM studio. Below we summarise the results.\n",
    "\n",
    "The geometry used to simulate the coupling capacitance is illustrated in Figure 3.3 below,\n",
    "\n",
    "![title](CST_QW_geometry.png)\n",
    "<h6 align=\"center\">Figure 3.3</h6> \n",
    "\n",
    "Electric potentials +1 and -1 were applied to the feedline and resonator respectively. These values were arbitrary and were only set because this is the only way in which I could seem to extract a capacitance matrix. The ground plane was left unassigned and is by default used as the ground reference."
   ]
  },
  {
   "cell_type": "markdown",
   "metadata": {},
   "source": [
    "The two variables in this geomtery are the length of the coupler and the width of the gap between the feedline and resonator. Table 3.2 below summarises the capacitances calculated within this parameter space. The capacitances are stated in units of $fF$.\n"
   ]
  },
  {
   "cell_type": "markdown",
   "metadata": {},
   "source": [
    "<table border=\"1\">\n",
    "<tr><td>$\\textbf{Coupler length}$ ($\\mu m$)</td><td colspan=\"4\">$\\textbf{Separation}$ ($\\mu m$)</td></tr>\n",
    "<tr><td></td><td>$\\textbf{2}$</td><td>$\\textbf{5}$</td><td>$\\textbf{10}$</td><td>$\\textbf{20}$</td></tr>\n",
    "<tr><td>$\\textbf{200}$</td><td></td><td></td><td></td><td></td></tr>\n",
    "<tr><td>$\\textbf{300}$</td><td>10.14</td><td>8.14</td><td>6.14</td><td>4.01</td></tr>\n",
    "<tr><td>$\\textbf{400}$</td><td></td><td></td><td></td><td></td></tr>\n",
    "</table>\n",
    "<h6 align=\"center\">Table 3.2</h6> "
   ]
  },
  {
   "cell_type": "code",
   "execution_count": null,
   "metadata": {
    "collapsed": true
   },
   "outputs": [],
   "source": []
  }
 ],
 "metadata": {
  "anaconda-cloud": {},
  "kernelspec": {
   "display_name": "Python [Root]",
   "language": "python",
   "name": "Python [Root]"
  },
  "language_info": {
   "codemirror_mode": {
    "name": "ipython",
    "version": 2
   },
   "file_extension": ".py",
   "mimetype": "text/x-python",
   "name": "python",
   "nbconvert_exporter": "python",
   "pygments_lexer": "ipython2",
   "version": "2.7.12"
  }
 },
 "nbformat": 4,
 "nbformat_minor": 1
}
