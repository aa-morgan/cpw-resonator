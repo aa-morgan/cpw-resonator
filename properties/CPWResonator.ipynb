{
 "cells": [
  {
   "cell_type": "markdown",
   "metadata": {},
   "source": [
    "# Design and simulation of superconducting co-planar waveguide resonators"
   ]
  },
  {
   "cell_type": "markdown",
   "metadata": {},
   "source": [
    "## 1 - Calculating of CPW resonator properties"
   ]
  },
  {
   "cell_type": "markdown",
   "metadata": {},
   "source": [
    "The equations used within this notebook and their corresponding references can be found in this document,\n",
    "[REF]"
   ]
  },
  {
   "cell_type": "markdown",
   "metadata": {},
   "source": [
    "### Imports"
   ]
  },
  {
   "cell_type": "code",
   "execution_count": 9,
   "metadata": {
    "collapsed": true
   },
   "outputs": [],
   "source": [
    "from scipy.special import ellipk\n",
    "import math\n",
    "from tabulate import tabulate\n",
    "import numpy as np\n",
    "import cmath\n",
    "\n",
    "import matplotlib.pyplot as plt\n",
    "%matplotlib inline\n",
    "\n",
    "from IPython.display import Image\n",
    "from IPython.display import HTML, display"
   ]
  },
  {
   "cell_type": "markdown",
   "metadata": {},
   "source": [
    "### Classes"
   ]
  },
  {
   "cell_type": "code",
   "execution_count": 10,
   "metadata": {
    "collapsed": true
   },
   "outputs": [],
   "source": [
    "class Conductor:\n",
    "    \"\"\"CPW conductor material class\"\"\"\n",
    "\n",
    "    def __init__(self, material, criticalTemperature, londonPenetrationDepthZero, resistancePerUnitLength,\n",
    "                 conductancePerUnitLength, amplitudeAttenuationPerUnitLength):\n",
    "        self.material = material\n",
    "        self.criticalTemperature = criticalTemperature\n",
    "        self.londonPenetrationDepthZero = londonPenetrationDepthZero\n",
    "        self.resistancePerUnitLength = resistancePerUnitLength\n",
    "        self.conductancePerUnitLength = conductancePerUnitLength\n",
    "        self.amplitudeAttenuationPerUnitLength = amplitudeAttenuationPerUnitLength"
   ]
  },
  {
   "cell_type": "code",
   "execution_count": 11,
   "metadata": {
    "collapsed": true
   },
   "outputs": [],
   "source": [
    "class Substrate:\n",
    "    \"\"\"Substrate material class\"\"\"\n",
    "\n",
    "    def __init__(self, material, relativePermittivity):\n",
    "        self.material = material\n",
    "        self.relativePermittivity = relativePermittivity"
   ]
  },
  {
   "cell_type": "code",
   "execution_count": 12,
   "metadata": {
    "collapsed": false
   },
   "outputs": [],
   "source": [
    "class CPWResonator:\n",
    "    \"\"\"Coplanar wave-guide resonator class\"\"\"\n",
    "\n",
    "    def __init__(self, length, conductorWidth, gapWidth, conductorThickness, resonatorType,\n",
    "                 conductorMaterial='Niobium', substrateMaterial='Silicon',\n",
    "                 temperature=4, couplingCapacitance=0E0, loadImpedance=50, loadBoundaryCondition='Short', modes=1):\n",
    "        # Supplied parameters\n",
    "        self.length = np.array(length)\n",
    "        self.conductorWidth = np.array(conductorWidth)\n",
    "        self.gapWidth = np.array(gapWidth)\n",
    "        self.conductorThickness = np.array(conductorThickness)\n",
    "        self.resonatorType = np.array(resonatorType)\n",
    "        self.conductor = self.conductorProperties(conductorMaterial)\n",
    "        self.substrate = self.substrateProperties(substrateMaterial)\n",
    "        self.temperature = np.array(temperature)\n",
    "        self.couplingCapacitance = np.array(couplingCapacitance)\n",
    "        self.loadImpedance = np.array(loadImpedance)\n",
    "        self.loadBoundaryCondition = np.array(loadBoundaryCondition)\n",
    "        self.modes = np.array(modes)\n",
    "\n",
    "        # Calculated parameters\n",
    "        self.effectivePermittivity = self.effectivePermittivity(self.substrate.relativePermittivity)\n",
    "        self.capacitancePerUnitLength = self.capacitancePerUnitLength(self.conductorWidth, self.gapWidth, self.effectivePermittivity)\n",
    "        self.geometricInducatancePerUnitLength = self.geometricInducatancePerUnitLength(self.conductorWidth, self.gapWidth)\n",
    "        self.kineticInductancePerUnitLength = self.kineticInductancePerUnitLength(self.conductorWidth, self.gapWidth, self.conductorThickness,\n",
    "            self.temperature, self.conductor.criticalTemperature, self.conductor.londonPenetrationDepthZero)\n",
    "        self.totalInductancePerUnitLength = self.geometricInducatancePerUnitLength + self.kineticInductancePerUnitLength\n",
    "        self.characteristicImpedance = self.characteristicImpedance(self.totalInductancePerUnitLength, self.capacitancePerUnitLength)\n",
    "        self.uncoupledResonantFrequency = self.uncoupledResonantFrequency(self.totalInductancePerUnitLength, self.capacitancePerUnitLength, self.length,\n",
    "            self.resonatorType, self.modes)\n",
    "        self.coupledResonantFrequency = self.coupledResonantFrequency(self.totalInductancePerUnitLength, self.capacitancePerUnitLength, self.length,\n",
    "            self.resonatorType, self.couplingCapacitance, self.loadImpedance, self.modes)\n",
    "        self.inputImpedance = self.inputImpedance(self.length, self.characteristicImpedance, self.loadBoundaryCondition,\n",
    "            self.totalInductancePerUnitLength, self.capacitancePerUnitLength, self.uncoupledResonantFrequency)\n",
    "        self.internalQualityFactor = self.internalQualityFactor(self.length, self.resonatorType, self.modes, self.conductor)\n",
    "        self.externalQualityFactorApprox = self.externalQualityFactorApproxFn(self.resonatorType, self.modes, self.uncoupledResonantFrequency,\n",
    "            self.couplingCapacitance, self.characteristicImpedance)\n",
    "        self.externalQualityFactor = self.externalQualityFactorFn(self.uncoupledResonantFrequency,\n",
    "            self.capacitancePerUnitLength, self.length, self.couplingCapacitance)\n",
    "        self.externalQualityFactorQWref = self.externalQualityFactorQWrefFn(self.resonatorType, self.modes, self.uncoupledResonantFrequency, self.capacitancePerUnitLength, self.length, \n",
    "            self.couplingCapacitance, self.characteristicImpedance)\n",
    "        self.loadedQualityFactor = self.loadedQualityFactor(self.internalQualityFactor, self.externalQualityFactor)\n",
    "        self.insertionLoss = self.insertionLoss(self.internalQualityFactor, self.externalQualityFactor)\n",
    "        self.beta = self.beta(self.uncoupledResonantFrequency, self.totalInductancePerUnitLength, self.capacitancePerUnitLength)\n",
    "\n",
    "    def effectivePermittivity(self, relativePermittivity):\n",
    "        return (1 + relativePermittivity)/2\n",
    "\n",
    "    def capacitancePerUnitLength(self, conductorWidth, gapWidth, effectivePermittivity):\n",
    "        # Permittivity of free space\n",
    "        freeSpacePermittivity = 8.85418782E-12\n",
    "\n",
    "        # Complete elliptic integral of the first kind\n",
    "        k = conductorWidth / (conductorWidth + 2 * gapWidth)\n",
    "        k2 = np.sqrt(1 - np.power(k,2))\n",
    "\n",
    "        # Total CPW capacitance p.u.l.\n",
    "        return 4 * freeSpacePermittivity * (effectivePermittivity + 0) * (ellipk(k) / ellipk(k2))\n",
    "\n",
    "    def geometricInducatancePerUnitLength(self, conductorWidth, gapWidth):\n",
    "        # Permeability of freespace\n",
    "        freeSpacePermeability = 1.25663706E-6\n",
    "\n",
    "        # Complete elliptic integral of the first kind\n",
    "        k = conductorWidth / (conductorWidth + 2 * gapWidth)\n",
    "        k2 = np.sqrt(1 - np.power(k,2))\n",
    "\n",
    "        # Total conductor geometric inductance p.u.l.\n",
    "        return (freeSpacePermeability / 4) * (ellipk(k2) / ellipk(k))\n",
    "\n",
    "    def kineticInductancePerUnitLength(self, conductorWidth, gapWidth, conductorThickness,\n",
    "                          temperature, criticalTemperature, londonPenetrationDepthZero):\n",
    "        # Permeability of freespace\n",
    "        freeSpacePermeability = 1.25663706E-6\n",
    "\n",
    "        # Complete elliptic integral of the first kind\n",
    "        k = conductorWidth / (conductorWidth + 2 * gapWidth)\n",
    "        K = ellipk(k)\n",
    "\n",
    "        # Penetration depth at temperature T\n",
    "        londonPenetrationDepthT = self.londonPenetrationDepthT(temperature, criticalTemperature, londonPenetrationDepthZero)\n",
    "\n",
    "        # Geometrical factor\n",
    "        geometricFactor = (1 / (2 * np.power(k, 2) * np.power(K, 2))) * (\n",
    "            - np.log(conductorThickness / (4 * conductorWidth)) + ((2 * (conductorWidth + gapWidth))\n",
    "            / (conductorWidth + 2 * gapWidth)) * np.log(gapWidth / (conductorWidth + gapWidth)) - (\n",
    "            conductorWidth / (conductorWidth + 2 * gapWidth)) * np.log(conductorThickness\n",
    "            / (4 * (conductorWidth + 2 * gapWidth))))\n",
    "\n",
    "        # Kinetic Inductance p.u.l.\n",
    "        return freeSpacePermeability * (np.power(londonPenetrationDepthT, 2) / (conductorWidth * conductorThickness)) * geometricFactor\n",
    "\n",
    "\n",
    "    def londonPenetrationDepthT(self, temperature, criticalTemperature, londonPenetrationDepthZero):\n",
    "        return londonPenetrationDepthZero / np.sqrt(1 - np.power((temperature / criticalTemperature), 4))\n",
    "\n",
    "    def characteristicImpedance(self, inductance, capacitance, resistance=0, conductance=0, frequency=1):\n",
    "        return np.sqrt(\n",
    "            (resistance + 1j*2*math.pi*frequency*inductance ) /\n",
    "            (conductance + 1j*2*math.pi*frequency*capacitance))\n",
    "\n",
    "    def inputImpedance(self, length, characteristicImpedance, loadBoundaryCondition, inductancePerUnitLength, capacitancePerUnitLength, frequency,\n",
    "                       resistancePerUnitLength=0, conductancePerUnitLength=0):\n",
    "        gamma = np.sqrt(\n",
    "            (resistancePerUnitLength + 1j*2*math.pi*frequency*inductancePerUnitLength ) *\n",
    "            (conductancePerUnitLength + 1j*2*math.pi*frequency*capacitancePerUnitLength))\n",
    "\n",
    "        if loadBoundaryCondition == 'Short':\n",
    "            return characteristicImpedance * np.tanh(gamma*length)\n",
    "        elif loadBoundaryCondition == 'Open':\n",
    "            return characteristicImpedance / np.tanh(gamma * length)\n",
    "        else:\n",
    "            print('Error: Load boundary condition no valid!')\n",
    "            return -1\n",
    "\n",
    "    def uncoupledResonantFrequency(self, totalInductancePerUnitLength, capacitancePerUnitLength, length, resonatorType, modes):\n",
    "        m = self.getModeFactor(resonatorType, modes)\n",
    "        return 1 / (np.sqrt(totalInductancePerUnitLength*capacitancePerUnitLength) * m * length)\n",
    "\n",
    "    def coupledResonantFrequency(self, totalInductancePerUnitLength, capacitancePerUnitLength, length, resonatorType, couplingCapacitance, loadImpedane, modes):\n",
    "        m = self.getModeFactor(resonatorType, modes)\n",
    "\n",
    "        # Pre-coupled\n",
    "        uncoupledResonantFrequency = 1 / (np.sqrt(totalInductancePerUnitLength*capacitancePerUnitLength) * m * length)\n",
    "\n",
    "        # Post-coupled\n",
    "        effectiveCouplingCapacitance = self.effectiveCouplingCapacitance(couplingCapacitance, uncoupledResonantFrequency, loadImpedane)\n",
    "\n",
    "        return 1 / (np.sqrt((totalInductancePerUnitLength*length) * ((capacitancePerUnitLength*length) + effectiveCouplingCapacitance)) * m)\n",
    "\n",
    "    def effectiveCouplingCapacitance(self, couplingCapacitance, frequency, loadImpedane):\n",
    "        return couplingCapacitance / \\\n",
    "               (1 + np.power(frequency * couplingCapacitance * loadImpedane * math.pi, 2))\n",
    "\n",
    "    def internalQualityFactor(self, length, resonatorType, modes, conductor):\n",
    "        m = self.getModeFactor(resonatorType, modes)\n",
    "        return (1/m) * (math.pi/(conductor.amplitudeAttenuationPerUnitLength*length))\n",
    "    \n",
    "    def externalQualityFactorFn(self, uncoupledResonantFrequency, capacitancePerUnitLength, length, couplingCapacitance, loadResistance=50):\n",
    "        omega_n = 2 * math.pi * uncoupledResonantFrequency\n",
    "        r_star = (1+(omega_n*couplingCapacitance*loadResistance)**2) / ((omega_n*couplingCapacitance)**2 * loadResistance)\n",
    "        C = (capacitancePerUnitLength * length)/2\n",
    "        return omega_n * r_star * C\n",
    "\n",
    "    def externalQualityFactorApproxFn(self, resonatorType, modes, uncoupledResonantFrequency, couplingCapacitance, characteristicImpedance):\n",
    "        m = self.getModeFactor(resonatorType, modes)\n",
    "        q_in = 2 * math.pi * uncoupledResonantFrequency * couplingCapacitance * characteristicImpedance\n",
    "        return (1/m) * (math.pi/(q_in**2))\n",
    "\n",
    "    def externalQualityFactorQWrefFn(self, resonatorType, modes, uncoupledResonantFrequency, capacitancePerUnitLength, length, couplingCapacitance, characteristicImpedance):\n",
    "        m = self.getModeFactor(resonatorType, modes)\n",
    "        omega_0 = 2 * math.pi * uncoupledResonantFrequency\n",
    "        inputPortImpedance = 50\n",
    "        mBody = 1/(omega_0**2 * couplingCapacitance**2 * characteristicImpedance * inputPortImpedance)\n",
    "        return (math.pi/m) * mBody\n",
    "    \n",
    "    def loadedQualityFactor(self, internalQualityFactor, externalQualityFactor):\n",
    "        return 1/((1/internalQualityFactor) + (1/externalQualityFactor))\n",
    "\n",
    "    def getModeFactor(self, resonatorType, modes):\n",
    "        if resonatorType == 'half':\n",
    "            m = 4.0 / (2.0 * modes)\n",
    "        elif resonatorType == 'quarter':\n",
    "            m = 4.0 / ((2.0 * modes) - 1)\n",
    "        else:\n",
    "            print('Error: Incorrect resonator type provided!')\n",
    "            return -1\n",
    "        return m\n",
    "\n",
    "    def insertionLoss(self, internalQualityFactor, externalQualityFactor):\n",
    "        g = internalQualityFactor/externalQualityFactor\n",
    "        return -20 * np.log10(g/(g+1))\n",
    "    \n",
    "    def beta(self, uncoupledResonantFrequency, inductancePerUnitLength, capacitancePerUnitLength):\n",
    "        omega_n = 2 * math.pi * uncoupledResonantFrequency\n",
    "        return omega_n * np.sqrt(inductancePerUnitLength*capacitancePerUnitLength)\n",
    "\n",
    "    def conductorProperties(self, material):\n",
    "        return{\n",
    "            'Niobium': Conductor(material=material, criticalTemperature=9.2, londonPenetrationDepthZero=33.3E-9,\n",
    "                resistancePerUnitLength=0, conductancePerUnitLength=0, amplitudeAttenuationPerUnitLength=0.0001),\n",
    "            'Niobium Nitride': Conductor(material=material, criticalTemperature=16.2, londonPenetrationDepthZero=40E-9,\n",
    "                resistancePerUnitLength=0, conductancePerUnitLength=0, amplitudeAttenuationPerUnitLength=0.0001),\n",
    "        }[material]\n",
    "\n",
    "    def substrateProperties(self, material):\n",
    "        return{\n",
    "            'Silicon': Substrate(material=material, relativePermittivity=11.9),\n",
    "            'Sapphire': Substrate(material=material, relativePermittivity=10.2),\n",
    "        }[material]"
   ]
  },
  {
   "cell_type": "markdown",
   "metadata": {},
   "source": [
    "## ABCD Transmission matrix"
   ]
  },
  {
   "cell_type": "markdown",
   "metadata": {},
   "source": [
    "The ABCD matrix can be used to fit the transmission/reflection resonance peaks of a resonator. The matrix is defined as,\n",
    "\n",
    "\\begin{equation}\n",
    "\\begin{bmatrix}\n",
    "    A & B \\\\\n",
    "    C & D\n",
    "\\end{bmatrix}\n",
    "= \n",
    "\\begin{bmatrix}\n",
    "    1 & Z_{in} \\\\\n",
    "    0 & 0\n",
    "\\end{bmatrix}\n",
    "\\begin{bmatrix}\n",
    "    t_{11} & t_{12} \\\\\n",
    "    t_{21} & t_{22}\n",
    "\\end{bmatrix}\n",
    "\\begin{bmatrix}\n",
    "    1 & Z_{out} \\\\\n",
    "    0 & 0\n",
    "\\end{bmatrix}\n",
    "\\end{equation}\n",
    "\n",
    "where, \n",
    "\n",
    "\\begin{equation}\n",
    "    t_{11} = t_{22} = \\cosh{\\gamma l}\n",
    "\\end{equation}\n",
    "\n",
    "\\begin{equation}\n",
    "    t_{12} = Z_0 \\sinh(\\gamma l)\n",
    "\\end{equation}\n",
    "\n",
    "\\begin{equation}\n",
    "    t_{21} = \\frac{1}{Z_0} \\sinh(\\gamma l)\n",
    "\\end{equation}\n",
    "\n",
    "where $Z_0$ is the characteristic impedance, and $\\gamma = \\alpha + i \\beta$ where $\\alpha$ is the amplitude attenuation coefficient and $\\beta$ is given by,\n",
    "\n",
    "\\begin{equation}\n",
    "    \\beta = \\frac{\\omega_n}{v_{ph}} = \\omega_n \\sqrt{L_l C_l} = \\omega_n \\frac{\\sqrt{\\epsilon_0}}{c}\n",
    "\\end{equation}\n",
    "\n",
    "The transmission parameter, $S_{21}$ is then given by,\n",
    "\n",
    "\\begin{equation}\n",
    "    S_{21} = \\frac{2}{A + \\frac{B}{R_L} + C R_L + D}\n",
    "\\end{equation}\n",
    "\n",
    "where $R_L$ is the load resistance."
   ]
  },
  {
   "cell_type": "code",
   "execution_count": 13,
   "metadata": {
    "collapsed": true
   },
   "outputs": [],
   "source": [
    "class ABCD:\n",
    "    'ABCD matrix method'\n",
    "\n",
    "    def __init__(self, freq, length, alpha, beta, couplingCapacitance, charImpedance, loadResistance=50):\n",
    "        self.freq = freq\n",
    "        self.length = length\n",
    "        self.gamma = alpha + 1j*beta\n",
    "        self.couplingCapacitance = couplingCapacitance\n",
    "        self.charImpedance = charImpedance\n",
    "        self.loadResistance = loadResistance\n",
    "        \n",
    "        self.s21 = self.s21(self.abcd(\n",
    "            self.input(self.freq, self.couplingCapacitance),\n",
    "            self.transmission(self.freq, self.length, self.gamma, self.charImpedance),\n",
    "            self.output(self.freq, self.couplingCapacitance)),\n",
    "            self.loadResistance)\n",
    "\n",
    "    def input(self, freq, couplingCapacitance):\n",
    "        n=np.size(freq)\n",
    "        Zin = 1/(1j*freq*couplingCapacitance)\n",
    "        return np.append(np.ones(n),[np.zeros(n),Zin,np.ones(n)]).reshape(n,2,2,order='F')\n",
    "        \n",
    "    def output(self, freq, couplingCapacitance):\n",
    "        n=np.size(freq)\n",
    "        Zin = 1/(1j*freq*couplingCapacitance)\n",
    "        return np.append(np.ones(n),[np.zeros(n),Zin,np.ones(n)]).reshape(n,2,2,order='F')\n",
    "        \n",
    "    def transmission(self, freq, length, gamma, charImpedance):\n",
    "        n=np.size(freq)\n",
    "        t11 = np.cosh(gamma * length)\n",
    "        t12 = charImpedance * np.sinh(gamma * length)\n",
    "        t21 = (1/charImpedance) * np.sinh(gamma * length)\n",
    "        t22 = np.cosh(gamma * length)\n",
    "        return np.append(t11*np.ones(n),[t21*np.ones(n),t12*np.ones(n),t22*np.ones(n)]) \\\n",
    "            .reshape(n,2,2,order='F')\n",
    "    \n",
    "    def abcd(self, input, transmission, output):\n",
    "        return input*transmission*output\n",
    "    \n",
    "    def s21(self, pABCD, loadResistance):\n",
    "        A = pABCD[:,0,0]\n",
    "        B = pABCD[:,0,1]\n",
    "        C = pABCD[:,1,0]\n",
    "        D = pABCD[:,1,1]\n",
    "        RL = loadResistance\n",
    "        return 2/( A + (B/RL)+ (C*RL) + D )"
   ]
  },
  {
   "cell_type": "markdown",
   "metadata": {},
   "source": [
    "# 2 - Calculating Rydberg atom transition frequencies"
   ]
  },
  {
   "cell_type": "markdown",
   "metadata": {},
   "source": [
    "The wavelength of the transition between the $n_1$th and $n_2$th levels is given by,\n",
    "\n",
    "\\begin{equation}\n",
    "    \\frac{1}{\\lambda} = R_{M} \\left( \\frac{1}{n_1^2} - \\frac{1}{n_1^2} \\right)\n",
    "\\end{equation}\n",
    "\n",
    "where $R_{M}$ is the reduced mass,\n",
    "\n",
    "\\begin{equation}\n",
    "    R_{M} = \\frac{R_{\\infty}}{1+\\frac{m_e}{M}}\n",
    "\\end{equation}\n",
    "\n",
    "where $R_{\\infty}$ is the Rydberg constant with an infinite mass nucleus, $m_e$ is the electron mass, and $M$ is the mass of the nucleus. $R_{\\infty}$ is given by,\n",
    "\n",
    "\\begin{equation}\n",
    "    R_{\\infty} = \\frac{m_e e^4}{8 \\epsilon_0^2 h^3 c} = 1.0973731568508 \\times 10^7 m^{-1}\n",
    "\\end{equation} \n",
    "\n",
    "The frequency of the transition is then,\n",
    "\n",
    "\\begin{equation}\n",
    "    f = \\frac{c}{\\lambda}\n",
    "\\end{equation}\n",
    "\n",
    "where $c$ is the speed of light."
   ]
  },
  {
   "cell_type": "code",
   "execution_count": 37,
   "metadata": {
    "collapsed": false
   },
   "outputs": [],
   "source": [
    "class RydbergAtom:\n",
    "    def __init__(self, z):\n",
    "        self.z = z\n",
    "        self.r_inf = 1.0973731568508 * 10**7\n",
    "        \n",
    "    def frequency(self, n_from, n_to):\n",
    "        m_e = 9.10938356 * 10**-31\n",
    "        m_p = 1.6726219 * 10**-27\n",
    "        r_m = self.r_inf / (1 + (m_e/(2*self.z*m_p)))\n",
    "        wavelength = 1 / ( r_m * ( (1/float(n_from)**2) - (1/float(n_to)**2) ) )\n",
    "        c = 2.99792458 * 10**8\n",
    "        return c / wavelength"
   ]
  },
  {
   "cell_type": "markdown",
   "metadata": {},
   "source": [
    "# 3 - Relationships between CPW resonator properties"
   ]
  },
  {
   "cell_type": "markdown",
   "metadata": {},
   "source": [
    "## Default values"
   ]
  },
  {
   "cell_type": "code",
   "execution_count": 38,
   "metadata": {
    "collapsed": false
   },
   "outputs": [],
   "source": [
    "default = {'length': [7208E-6],\n",
    "           'conductorWidth': [20E-6],\n",
    "           'gapWidth': [10E-6],\n",
    "           'conductorThickness': [100E-9],\n",
    "           'resonatorType': 'quarter',\n",
    "           'conductorMaterial': 'Niobium Nitride',\n",
    "           'substrateMaterial': 'Silicon',\n",
    "           'temperature': [4],\n",
    "           'couplingCapacitance': [10E-15],\n",
    "           'loadBoundaryCondition': 'Short',\n",
    "           'modes': [1]}    "
   ]
  },
  {
   "cell_type": "markdown",
   "metadata": {},
   "source": [
    "## Lengths for $\\lambda / 2$ and $\\lambda / 4$ resonators"
   ]
  },
  {
   "cell_type": "code",
   "execution_count": 39,
   "metadata": {
    "collapsed": false
   },
   "outputs": [
    {
     "name": "stdout",
     "output_type": "stream",
     "text": [
      "('Transition frequency (n =', 68, '->', 69, ') is', '20.470', 'GHz')\n"
     ]
    }
   ],
   "source": [
    "mCPW = CPWResonator(length=default['length'], \n",
    "                    conductorWidth=default['conductorWidth'], \n",
    "                    gapWidth=default['gapWidth'], \n",
    "                    conductorThickness=default['conductorThickness'],\n",
    "                    resonatorType=default['resonatorType'], \n",
    "                    conductorMaterial=default['conductorMaterial'], \n",
    "                    substrateMaterial=default['substrateMaterial'],\n",
    "                    temperature=default['temperature'], \n",
    "                    couplingCapacitance=default['couplingCapacitance'], \n",
    "                    loadBoundaryCondition=default['loadBoundaryCondition'], \n",
    "                    modes=[1,2,3,4,5])\n",
    "\n",
    "def length(frequency, resonatorType):\n",
    "    c = 2.99792458 * 10**8\n",
    "    m = mCPW.getModeFactor(resonatorType, mCPW.modes)\n",
    "    return (c / np.sqrt(mCPW.effectivePermittivity)) / (m * frequency)\n",
    "\n",
    "heliumCharge = 2\n",
    "mAtom = RydbergAtom(heliumCharge)\n",
    "n = 68\n",
    "\n",
    "qwLengths = length(mAtom.frequency(n, n+1), 'quarter')\n",
    "hwLengths = length(mAtom.frequency(n, n+1), 'half')\n",
    "c = 2.99792458 * 10**8 \n",
    "\n",
    "print('Transition frequency (n =', n , '->', n+1, ') is', \"%.3f\" % (mAtom.frequency(n, n+1)/10**9), 'GHz')"
   ]
  },
  {
   "cell_type": "markdown",
   "metadata": {},
   "source": [
    "The required lengths of the resonator (assuming no shifts due to effects of temperature, capacitive coupling, etc) such that the corresponsing harmonic matches the given frequency are summarised in Table 3.1 for both $\\lambda/4$ and $\\lambda/2$ resonators."
   ]
  },
  {
   "cell_type": "code",
   "execution_count": 46,
   "metadata": {
    "collapsed": false
   },
   "outputs": [
    {
     "ename": "SyntaxError",
     "evalue": "invalid syntax (<ipython-input-46-f1b185b1ad7f>, line 2)",
     "output_type": "error",
     "traceback": [
      "\u001b[1;36m  File \u001b[1;32m\"<ipython-input-46-f1b185b1ad7f>\"\u001b[1;36m, line \u001b[1;32m2\u001b[0m\n\u001b[1;33m    ['$\\lambda /4$ ($\\mu$m)',*(qwLengths*10**6).astype(int)],\u001b[0m\n\u001b[1;37m                             ^\u001b[0m\n\u001b[1;31mSyntaxError\u001b[0m\u001b[1;31m:\u001b[0m invalid syntax\n"
     ]
    }
   ],
   "source": [
    "tableData = [['Harmonic, $n$','1','2','3','4','5'],\n",
    "             ['$\\lambda /4$ ($\\mu$m)',*(qwLengths*10**6).astype(int)],\n",
    "             ['$\\lambda /2$ ($\\mu$m)',*(hwLengths*10**6).astype(int)]]\n",
    "\n",
    "display(HTML(\n",
    "'<table><tr>{}</tr></table>'.format(\n",
    "    '</tr><tr>'.join( \n",
    "        '<td>{}</td>'.format('</td><td>'.join(str(_) for _ in row)) for row in tableData)\n",
    "    )\n",
    "))"
   ]
  },
  {
   "cell_type": "markdown",
   "metadata": {},
   "source": [
    "<h6 align=\"center\">Table 3.1</h6>"
   ]
  },
  {
   "cell_type": "markdown",
   "metadata": {},
   "source": [
    "## Single value parameters - all properties"
   ]
  },
  {
   "cell_type": "code",
   "execution_count": 47,
   "metadata": {
    "collapsed": false
   },
   "outputs": [
    {
     "name": "stdout",
     "output_type": "stream",
     "text": [
      "Property                          Value              Units\n",
      "--------------------------------  -----------------  -------\n",
      "Effective permittivity            6.45               -\n",
      "Substrate capacitance             [ 173.487]         pF/m\n",
      "Geometric Inductance              [  4.137e-07]      H/m\n",
      "Kinetic Inductance                [  5.123e-09]      H/m\n",
      "Characteristic Impedance          [ 49.132+0.j]      Ohms\n",
      "Input Impedance                   [ 0. +1.605e+17j]  Ohms\n",
      "Resonant frequency (Uncoupled)    [ 18.835]          Ghz\n",
      "Resonant frequency (Coupled)      [ 18.778]          Ghz\n",
      "Internal Quality factor           [ 5043656.328]     -\n",
      "External Quality factor           [ 1726.614]        -\n",
      "External Quality factor [Approx]  [ 1753.05+0.j]     -\n",
      "Loaded Quality factor             [ 1726.023]        -\n",
      "Insertion loss                    [ 0.003]           dB\n"
     ]
    }
   ],
   "source": [
    "mCPW = CPWResonator(length=7786E-6, \n",
    "                    conductorWidth=default['conductorWidth'], \n",
    "                    gapWidth=default['gapWidth'], \n",
    "                    conductorThickness=default['conductorThickness'],\n",
    "                    resonatorType=default['resonatorType'], \n",
    "                    conductorMaterial=default['conductorMaterial'], \n",
    "                    substrateMaterial=default['substrateMaterial'],\n",
    "                    temperature=default['temperature'], \n",
    "                    couplingCapacitance=8.14E-15, \n",
    "                    loadBoundaryCondition=default['loadBoundaryCondition'], \n",
    "                    modes=[3])\n",
    "\n",
    "np.set_printoptions(precision=3)\n",
    "print(tabulate(\n",
    "    [['Effective permittivity', mCPW.effectivePermittivity, '-'],\n",
    "     ['Substrate capacitance', mCPW.capacitancePerUnitLength * 10**12, 'pF/m'],\n",
    "     ['Geometric Inductance', mCPW.geometricInducatancePerUnitLength, 'H/m'],\n",
    "     ['Kinetic Inductance', mCPW.kineticInductancePerUnitLength, 'H/m'],\n",
    "     ['Characteristic Impedance', mCPW.characteristicImpedance, 'Ohms'],\n",
    "     ['Input Impedance', mCPW.inputImpedance, 'Ohms'],\n",
    "     ['Resonant frequency (Uncoupled)', mCPW.uncoupledResonantFrequency / 10**9, 'Ghz'],\n",
    "     ['Resonant frequency (Coupled)', mCPW.coupledResonantFrequency / 10**9, 'Ghz'],\n",
    "     ['Internal Quality factor', mCPW.internalQualityFactor, '-'],\n",
    "     ['External Quality factor', mCPW.externalQualityFactor, '-'],\n",
    "     ['External Quality factor [Approx]', mCPW.externalQualityFactorApprox, '-'],\n",
    "     ['Loaded Quality factor', mCPW.loadedQualityFactor, '-'],\n",
    "     ['Insertion loss', mCPW.insertionLoss, 'dB']],\n",
    "    headers=['Property', 'Value', 'Units'], floatfmt=\".2f\"))"
   ]
  },
  {
   "cell_type": "markdown",
   "metadata": {},
   "source": [
    "## Multi-value parameters"
   ]
  },
  {
   "cell_type": "markdown",
   "metadata": {},
   "source": [
    "### Uncoupled fundamental resonant frequency as a function of resonator length"
   ]
  },
  {
   "cell_type": "code",
   "execution_count": 48,
   "metadata": {
    "collapsed": false
   },
   "outputs": [
    {
     "data": {
      "image/png": "[encoded data removed]",
      "text/plain": [
       "<matplotlib.figure.Figure at 0x79b8cf8>"
      ]
     },
     "metadata": {},
     "output_type": "display_data"
    }
   ],
   "source": [
    "minLen = 5000E-6\n",
    "maxLen = 20000E-6\n",
    "length = np.linspace(minLen, maxLen,100)\n",
    "\n",
    "mCPW = CPWResonator(length=length, \n",
    "                    conductorWidth=default['conductorWidth'], \n",
    "                    gapWidth=default['gapWidth'], \n",
    "                    conductorThickness=default['conductorThickness'],\n",
    "                    resonatorType=default['resonatorType'], \n",
    "                    conductorMaterial=default['conductorMaterial'], \n",
    "                    substrateMaterial=default['substrateMaterial'],\n",
    "                    temperature=default['temperature'], \n",
    "                    couplingCapacitance=default['couplingCapacitance'], \n",
    "                    loadBoundaryCondition=default['loadBoundaryCondition'], \n",
    "                    modes=default['modes'])\n",
    "\n",
    "plt.plot(length* 10**6, mCPW.uncoupledResonantFrequency / 10**9)\n",
    "plt.xlabel('Length ($\\mu m$)')\n",
    "plt.ylabel('Uncoupled resonant frequency, $f_0$ (GHz)') \n",
    "plt.grid()"
   ]
  },
  {
   "cell_type": "markdown",
   "metadata": {},
   "source": [
    "### Uncoupled fundamental resonant frequency as a function of temperature"
   ]
  },
  {
   "cell_type": "code",
   "execution_count": 49,
   "metadata": {
    "collapsed": false
   },
   "outputs": [
    {
     "data": {
      "image/png": "[encoded data removed]",
      "text/plain": [
       "<matplotlib.figure.Figure at 0x8683080>"
      ]
     },
     "metadata": {},
     "output_type": "display_data"
    }
   ],
   "source": [
    "minTemp = 0\n",
    "maxTemp = 12\n",
    "temperature = np.linspace(minTemp, maxTemp,100)\n",
    "\n",
    "mCPW = CPWResonator(length=default['length'], \n",
    "                    conductorWidth=default['conductorWidth'], \n",
    "                    gapWidth=default['gapWidth'], \n",
    "                    conductorThickness=default['conductorThickness'],\n",
    "                    resonatorType=default['resonatorType'], \n",
    "                    conductorMaterial=default['conductorMaterial'], \n",
    "                    substrateMaterial=default['substrateMaterial'],\n",
    "                    temperature=temperature, \n",
    "                    couplingCapacitance=default['couplingCapacitance'], \n",
    "                    loadBoundaryCondition=default['loadBoundaryCondition'], \n",
    "                    modes=default['modes'])\n",
    "\n",
    "plt.plot(temperature, mCPW.uncoupledResonantFrequency / 10**9)\n",
    "plt.xlabel('Temperature, $T$ (K)')\n",
    "plt.ylabel('Uncoupled resonant frequency, $f_0$ (GHz)') \n",
    "plt.grid()"
   ]
  },
  {
   "cell_type": "markdown",
   "metadata": {},
   "source": [
    "### Coupled resonant frequency as a function of coupling capacitance"
   ]
  },
  {
   "cell_type": "code",
   "execution_count": 50,
   "metadata": {
    "collapsed": false
   },
   "outputs": [
    {
     "data": {
      "image/png": "[encoded data removed]",
      "text/plain": [
       "<matplotlib.figure.Figure at 0x8f35128>"
      ]
     },
     "metadata": {},
     "output_type": "display_data"
    }
   ],
   "source": [
    "minCap = 0.1E-15\n",
    "maxCap = 30E-15\n",
    "couplingCapacitance = np.linspace(minCap, maxCap,100)\n",
    "\n",
    "mCPW = CPWResonator(length=default['length'], \n",
    "                    conductorWidth=default['conductorWidth'], \n",
    "                    gapWidth=default['gapWidth'], \n",
    "                    conductorThickness=default['conductorThickness'],\n",
    "                    resonatorType=default['resonatorType'], \n",
    "                    conductorMaterial=default['conductorMaterial'], \n",
    "                    substrateMaterial=default['substrateMaterial'],\n",
    "                    temperature=default['temperature'], \n",
    "                    couplingCapacitance=couplingCapacitance, \n",
    "                    loadBoundaryCondition=default['loadBoundaryCondition'], \n",
    "                    modes=default['modes'])\n",
    "\n",
    "plt.plot(couplingCapacitance* 10**15, mCPW.coupledResonantFrequency / 10**9)\n",
    "plt.xlabel('Coupling capacitance, $C_{\\kappa}$ (fF)')\n",
    "plt.ylabel('Coupled resonant frequency, $f_n$ (GHz)') \n",
    "plt.grid()"
   ]
  },
  {
   "cell_type": "markdown",
   "metadata": {},
   "source": [
    "### External quality factor and insertion loss as a function of coupling capacitance"
   ]
  },
  {
   "cell_type": "code",
   "execution_count": 51,
   "metadata": {
    "collapsed": false
   },
   "outputs": [
    {
     "data": {
      "image/png": "[encoded data removed]",
      "text/plain": [
       "<matplotlib.figure.Figure at 0x8267b70>"
      ]
     },
     "metadata": {},
     "output_type": "display_data"
    }
   ],
   "source": [
    "minCap = 0.1E-15\n",
    "maxCap = 30E-15\n",
    "couplingCapacitance = np.linspace(minCap, maxCap,100)\n",
    "\n",
    "mCPW = CPWResonator(length=default['length'], \n",
    "                    conductorWidth=default['conductorWidth'], \n",
    "                    gapWidth=default['gapWidth'], \n",
    "                    conductorThickness=default['conductorThickness'],\n",
    "                    resonatorType=default['resonatorType'], \n",
    "                    conductorMaterial=default['conductorMaterial'], \n",
    "                    substrateMaterial=default['substrateMaterial'],\n",
    "                    temperature=default['temperature'], \n",
    "                    couplingCapacitance=couplingCapacitance, \n",
    "                    loadBoundaryCondition=default['loadBoundaryCondition'], \n",
    "                    modes=default['modes'])\n",
    "\n",
    "fig, ax1 = plt.subplots()\n",
    "plt.yscale('log')\n",
    "ax2 = ax1.twinx()\n",
    "ax1.plot(couplingCapacitance* 10**15, mCPW.externalQualityFactor, 'g-', label=\"Quality factor\")\n",
    "ax2.plot(couplingCapacitance* 10**15, mCPW.insertionLoss, 'b-', label=\"Insertion loss\")\n",
    "plt.yscale('log')\n",
    "\n",
    "ax1.set_xlabel('Coupling capacitance, $C_{\\kappa}$ (fF)')\n",
    "ax1.set_ylabel('External quality factor, $Q_{ext}$', color='g')\n",
    "ax2.set_ylabel('Insertion loss (dB)', color='b')\n",
    "plt.grid()"
   ]
  },
  {
   "cell_type": "markdown",
   "metadata": {},
   "source": [
    "### External quality factor as a function of harmonic mode"
   ]
  },
  {
   "cell_type": "code",
   "execution_count": 52,
   "metadata": {
    "collapsed": false
   },
   "outputs": [
    {
     "name": "stderr",
     "output_type": "stream",
     "text": [
      "C:\\Anaconda2\\lib\\site-packages\\numpy\\core\\numeric.py:482: ComplexWarning: Casting complex values to real discards the imaginary part\n",
      "  return array(a, dtype, copy=False, order=order)\n"
     ]
    },
    {
     "data": {
      "text/plain": [
       "<matplotlib.legend.Legend at 0x9d75f28>"
      ]
     },
     "execution_count": 52,
     "metadata": {},
     "output_type": "execute_result"
    },
    {
     "data": {
      "image/png": "[encoded data removed]",
      "text/plain": [
       "<matplotlib.figure.Figure at 0x83e5dd8>"
      ]
     },
     "metadata": {},
     "output_type": "display_data"
    }
   ],
   "source": [
    "mCPW = CPWResonator(length=default['length'], \n",
    "                    conductorWidth=default['conductorWidth'], \n",
    "                    gapWidth=default['gapWidth'], \n",
    "                    conductorThickness=default['conductorThickness'],\n",
    "                    resonatorType=default['resonatorType'], \n",
    "                    conductorMaterial=default['conductorMaterial'], \n",
    "                    substrateMaterial=default['substrateMaterial'],\n",
    "                    temperature=default['temperature'], \n",
    "                    couplingCapacitance=default['couplingCapacitance'], \n",
    "                    loadBoundaryCondition=default['loadBoundaryCondition'], \n",
    "                    modes=[1,2,3,4,5])\n",
    "\n",
    "uncoupledResonantFrequency = np.linspace(3,40,100) * 10**9 \n",
    "externalQualityFactor = mCPW.externalQualityFactorFn(uncoupledResonantFrequency, \n",
    "                                                     mCPW.capacitancePerUnitLength, \n",
    "                                                     mCPW.length, \n",
    "                                                     mCPW.couplingCapacitance)\n",
    "\n",
    "plt.plot(uncoupledResonantFrequency/10**9, externalQualityFactor, 'r--', label=\"Fit\")\n",
    "plt.plot(mCPW.uncoupledResonantFrequency/10**9, mCPW.externalQualityFactor, 'bo', label=\"Main\")\n",
    "plt.plot(mCPW.uncoupledResonantFrequency/10**9, mCPW.externalQualityFactorApprox, 'yo', label=\"Approx\")\n",
    "plt.plot(mCPW.uncoupledResonantFrequency/10**9, mCPW.externalQualityFactorQWref, 'go', label=\"QW Ref\")\n",
    "plt.xlabel('Coupled resonant frequency, $f_n$ (GHz)')\n",
    "plt.ylabel('External quality factor, $Q_{ext}$')\n",
    "plt.grid()\n",
    "plt.legend()"
   ]
  },
  {
   "cell_type": "markdown",
   "metadata": {
    "collapsed": false
   },
   "source": [
    "## ABCD matrix plots"
   ]
  },
  {
   "cell_type": "code",
   "execution_count": 53,
   "metadata": {
    "collapsed": false
   },
   "outputs": [
    {
     "name": "stdout",
     "output_type": "stream",
     "text": [
      "('beta', array([ 217.924]))\n"
     ]
    }
   ],
   "source": [
    "mCPW = CPWResonator(length=default['length'], \n",
    "                    conductorWidth=default['conductorWidth'], \n",
    "                    gapWidth=default['gapWidth'], \n",
    "                    conductorThickness=default['conductorThickness'],\n",
    "                    resonatorType=default['resonatorType'], \n",
    "                    conductorMaterial=default['conductorMaterial'], \n",
    "                    substrateMaterial=default['substrateMaterial'],\n",
    "                    temperature=default['temperature'], \n",
    "                    couplingCapacitance=default['couplingCapacitance'], \n",
    "                    loadBoundaryCondition=default['loadBoundaryCondition'], \n",
    "                    modes=default['modes'])\n",
    "\n",
    "beta=1.0E-4\n",
    "freqRange=[0.1E9,400.0E9]\n",
    "freqStep=0.1E9\n",
    "frequency= np.arange(freqRange[0], freqRange[1], freqStep)\n",
    "\n",
    "print('beta', mCPW.beta)\n",
    "\n",
    "abcd=ABCD(frequency, \n",
    "          mCPW.length, \n",
    "          mCPW.conductor.amplitudeAttenuationPerUnitLength, \n",
    "          beta, # (The value of mCPW.beta is currently too high to give sensible results)\n",
    "          mCPW.couplingCapacitance, \n",
    "          mCPW.characteristicImpedance)\n",
    "data=abcd.s21"
   ]
  },
  {
   "cell_type": "markdown",
   "metadata": {},
   "source": [
    "### Transmission"
   ]
  },
  {
   "cell_type": "code",
   "execution_count": 54,
   "metadata": {
    "collapsed": false
   },
   "outputs": [
    {
     "data": {
      "text/plain": [
       "<matplotlib.legend.Legend at 0x9ef2cc0>"
      ]
     },
     "execution_count": 54,
     "metadata": {},
     "output_type": "execute_result"
    },
    {
     "data": {
      "image/png": "[encoded data removed]",
      "text/plain": [
       "<matplotlib.figure.Figure at 0x8267240>"
      ]
     },
     "metadata": {},
     "output_type": "display_data"
    }
   ],
   "source": [
    "plt.plot(abcd.freq/10**9, np.real(data), 'g-', label='real')\n",
    "plt.plot(abcd.freq/10**9, np.imag(data), 'r-', label='imaginary')\n",
    "plt.xlabel('Frequency (GHz)')\n",
    "plt.ylabel('Transmission, S12')\n",
    "plt.grid()\n",
    "plt.legend(loc='lower right')"
   ]
  },
  {
   "cell_type": "markdown",
   "metadata": {},
   "source": [
    "### Reflection"
   ]
  },
  {
   "cell_type": "code",
   "execution_count": 55,
   "metadata": {
    "collapsed": false
   },
   "outputs": [
    {
     "data": {
      "text/plain": [
       "<matplotlib.legend.Legend at 0xa245978>"
      ]
     },
     "execution_count": 55,
     "metadata": {},
     "output_type": "execute_result"
    },
    {
     "data": {
      "image/png": "[encoded data removed]",
      "text/plain": [
       "<matplotlib.figure.Figure at 0x9ea2828>"
      ]
     },
     "metadata": {},
     "output_type": "display_data"
    }
   ],
   "source": [
    "plt.plot(abcd.freq/10**9, 1-np.real(data), 'g-', label='real')\n",
    "plt.plot(abcd.freq/10**9, 1-np.imag(data), 'r-', label='imaginary')\n",
    "plt.xlabel('Frequency (GHz)')\n",
    "plt.ylabel('Transmission, S12')\n",
    "plt.grid()\n",
    "plt.legend(loc='lower right')"
   ]
  },
  {
   "cell_type": "markdown",
   "metadata": {},
   "source": [
    "# 4 - Simulation of CPW resonator using AWR Microwave Studio"
   ]
  },
  {
   "cell_type": "markdown",
   "metadata": {},
   "source": [
    "AWR Microwave Studio is being used to analytically analyse the behaviour of an ideal quarter-wave co-planar waveguide superconducting microwave resonator. The schematic used to represent this system is shown in Figure 4.1 below,\n",
    "\n",
    "![title](figures/AWR_QW_schematic.png)\n",
    "<h6 align=\"center\">Figure 4.1</h6> \n",
    "\n",
    "The important parameters used in the model above are summarised in Table 4.1 below,\n",
    "\n",
    "  Parameter | Value | Unit\n",
    "  --- | --- | ---\n",
    "  Length | 7186 | $\\mu m$\n",
    "  Coupling capacitance, $C_{\\kappa}$ | 50 | $fF$\n",
    "  Conductor width, $W$ | 20 | $\\mu m$\n",
    "  Gap width, $s$ | 10 | $\\mu m$\n",
    "  Substrate | Silicon |\n",
    "  <h6 align=\"center\">Table 4.1</h6> "
   ]
  },
  {
   "cell_type": "markdown",
   "metadata": {},
   "source": [
    "The transmission $S_{12}$ and reflection $S_{11}$ between the two ports due to the presence of the resonator is calculated as,\n",
    "\n",
    "![title](figures/AWR_QW_graph.png)\n",
    "<h6 align=\"center\">Figure 4.2</h6> "
   ]
  },
  {
   "cell_type": "markdown",
   "metadata": {},
   "source": [
    "This leaves two pieces of the puzzle left,\n",
    "- What value should be used for the coupling capacitance, $C_{\\kappa}$ \n",
    "- How to design a coupler with this capacitance\n",
    "\n",
    "The answer to the former comes down to a trade-off between external quality factor and insertion loss, as seen in one of the figures above. The range of obtainable coupling capacitances is also limited by fabrication restrictions. For example the minimum feature size of photo-lithogrpahy will be around 2-5 $\\mu m$ which with a coupler length of 300 $\\mu m$ leads to a coupling capacitance of 8-10 $fF$ (as discussed in the next section). Therefore in order to increase the coupling capacitance beyond these values the length of the coupler will need to be increased. However this is also limited because this length should be much less than $\\lambda /4$."
   ]
  },
  {
   "cell_type": "markdown",
   "metadata": {},
   "source": [
    "## Calculation of coupling capacitance using CST EM Studio"
   ]
  },
  {
   "cell_type": "markdown",
   "metadata": {},
   "source": [
    "In order to design a coupler with a desired capacitance, it is necessary to use a finite element similuation such as CST EM studio. Below we summarise the results.\n",
    "\n",
    "The geometry used to simulate the coupling capacitance is illustrated in Figure 4.3 below,\n",
    "\n",
    "![title](figures/CST_QW_geometry.png)\n",
    "<h6 align=\"center\">Figure 4.3</h6> \n",
    "\n",
    "Electric potentials +1 and -1 were applied to the feedline and resonator respectively. These values were arbitrary and were only set because this is the only way in which I could seem to extract a capacitance matrix. The ground plane was left unassigned and is by default used as the ground reference."
   ]
  },
  {
   "cell_type": "markdown",
   "metadata": {},
   "source": [
    "The two variables in this geomtery are the length of the coupler and the width of the gap between the feedline and resonator. Table 4.2 below summarises the capacitances calculated within this parameter space. The capacitances are stated in units of $fF$.\n"
   ]
  },
  {
   "cell_type": "markdown",
   "metadata": {},
   "source": [
    "<table border=\"1\">\n",
    "<tr><td>$\\textbf{Coupler length}$ ($\\mu m$)</td><td colspan=\"4\">$\\textbf{Separation}$ ($\\mu m$)</td></tr>\n",
    "<tr><td></td><td>$\\textbf{2}$</td><td>$\\textbf{5}$</td><td>$\\textbf{10}$</td><td>$\\textbf{20}$</td></tr>\n",
    "<tr><td>$\\textbf{200}$</td><td>7.37</td><td>5.99</td><td>4.55</td><td>3.00</td></tr>\n",
    "<tr><td>$\\textbf{300}$</td><td>10.14</td><td>8.14</td><td>6.14</td><td>4.01</td></tr>\n",
    "<tr><td>$\\textbf{400}$</td><td>12.86</td><td>10.26</td><td>7.72</td><td>5.00</td></tr>\n",
    "</table>\n",
    "<h6 align=\"center\">Table 4.2</h6> "
   ]
  },
  {
   "cell_type": "markdown",
   "metadata": {
    "collapsed": true
   },
   "source": [
    "The atoms will couple to the electric field of the resonator. Although the e-field is zero at the grounded end of the resonator, this won't be an issue because we plan to use a higher harmonic mode therefore an e-field maxiumum will be present along the interaction length of the resonator, as shown in Figure 4.4 below,\n",
    "\n",
    "![title](figures/CST_QW_e-field.png)\n",
    "<h6 align=\"center\">Figure 4.4</h6> "
   ]
  },
  {
   "cell_type": "markdown",
   "metadata": {
    "collapsed": true
   },
   "source": [
    "# 5 - Design parameters"
   ]
  },
  {
   "cell_type": "markdown",
   "metadata": {},
   "source": [
    "An illustration of the design of the entire chip (in fact the mask) is shown in Figure 5.1 below,\n",
    "\n",
    "![Mask design](figures/mask-design-single.png)\n",
    "<h6 align=\"center\">Figure 5.1</h6>\n",
    "\n",
    "The feedline is terminated with pad that maintain the ratio of the conductor to the gap in order to maintain an impedance of 50 $\\Omega$ and hence minimise reflections. The pads allow wire bonds to connect the chip to a PCB."
   ]
  },
  {
   "cell_type": "markdown",
   "metadata": {},
   "source": [
    "The parameters describing the unit ceel resonator are summarised in Tables 5.1 below,\n",
    "\n",
    "  Parameter | Value | Unit\n",
    "  --- | --- | ---\n",
    "  Chip dimensions | 10x10 | $mm^2$\n",
    "  Feedline conductor width | 20 | $\\mu m$\n",
    "  Feedline gap width | 10 | $\\mu m$\n",
    "  Feedline vertical length | 2840 | $\\mu m$\n",
    "  Feedline horiztonal length | 6160 | $\\mu m$\n",
    "  Feedline curve inner radius | 100 | $\\mu m$\n",
    "  Pad conductor width | 300 | $\\mu m$\n",
    "  Pad gap width | 150 | $\\mu m$\n",
    "  Pad expansion length | 610 | $\\mu m$\n",
    "  Resonator conductor width | 20 | $\\mu m$\n",
    "  Resonator gap width | 10 | $\\mu m$\n",
    "  Resonator curve inner radius | 100 | $\\mu m$\n",
    "  Resonator vertical length | 2000 | $\\mu m$\n",
    "  Resonator interaction length | variable |\n",
    "  Resonator coupler length | variable | \n",
    "  Resonator total length | variable |\n",
    "  Coupler-feedline separation (gap width) | variable |\n",
    "  <h6 align=\"center\">Table 5.1 - Fixed physical dimensions</h6> "
   ]
  },
  {
   "cell_type": "markdown",
   "metadata": {},
   "source": [
    "The wafers being used have a diameter of 4 inches. With 10x10 $mm$ tiles and an inter-tile spacing of 200 $\\mu m$ gives the following layout,\n",
    "\n",
    "![Mask design](figures/mask-design-wafer.png)\n",
    "<h6 align=\"center\">Figure 5.2</h6>"
   ]
  },
  {
   "cell_type": "markdown",
   "metadata": {},
   "source": [
    "  Parameter | Value | Unit\n",
    "  --- | --- | ---\n",
    "  Diameter of wafer | 4 (100) | inch ($mm$)\n",
    "  Size of mask | 5x5 | inch$^2$\n",
    "  Number of tiles available | 44 |\n",
    "  Redundancy | 2 |\n",
    "  Number of unique designs | 22 |\n",
    "  <h6 align=\"center\">Table 5.2 - Number of designs</h6> \n",
    "  \n",
    "  Parameter | Value | Unit\n",
    "  --- | --- | ---\n",
    "  Conductor material | Niobium Nitride |\n",
    "  Conductor thickness | 100 | $nm$\n",
    "  Substrate material | Silicon |\n",
    "  Substrate thickness | 500 | $\\mu m$\n",
    "  <h6 align=\"center\">Table 5.3 - Other resonator properties</h6> "
   ]
  },
  {
   "cell_type": "markdown",
   "metadata": {},
   "source": [
    "Given the variable parameters highlighted in Table 5.1, below are the set of parameters chosen for each design.\n",
    "\n",
    "  \\# | Coupler length, $\\mu m$ | Coupler-feedline, $\\mu m$ | $C_{\\kappa}$, $fF$ | Transition, $n\\rightarrow n+1$ | $f_0$, GHz | Total length, $\\mu m$ | Interaction length, $\\mu m$ | $Q_{ext}$\n",
    "  ---| \n",
    "  1  | 200 | 20 | 3.00  | 66 | 22.373 | 6546 | 3850 | 8968\n",
    "  2  | 200 | 10 | 4.55  | 66 | 22.373 | 6542 | 3846 | 3893\n",
    "  3  | 200 | 5  | 5.99  | 66 | 22.373 | 6538 | 3842 | 2246 \n",
    "  4  | 300 | 20 | 4.01  | 66 | 22.373 | 6543 | 3847 | 5016\n",
    "  5  | 300 | 10 | 6.14  | 66 | 22.373 | 6538 | 3842 | 2138 \n",
    "  6  | 300 | 5  | 8.14  | 66 | 22.373 | 6531 | 3835 | 1215 \n",
    "  7  | 400 | 20 | 5.00  | 66 | 22.373 | 6540 | 3844 | 3325\n",
    "  8  | 400 | 10 | 7.72  | 66 | 22.373 | 6533 | 3837 | 1352  \n",
    "  9  | 400 | 5  | 10.26 | 66 | 22.373 | 6526 | 3830 | 766\n",
    "  10 | 200 | 20 | 3.00  | 68 | 20.470 | 7155 | 4459 | 10714\n",
    "  11 | 200 | 10 | 4.55  | 68 | 20.470 | 7151 | 4455 | 4650  \n",
    "  12 | 200 | 5  | 5.99  | 68 | 20.470 | 7147 | 4451 | 2684  \n",
    "  13 | 300 | 20 | 4.01  | 68 | 20.470 | 7152 | 4456 | 5993\n",
    "  14 | 300 | 10 | 6.14  | 68 | 20.470 | 7146 | 4450 | 2554  \n",
    "  15 | 300 | 5  | 8.14  | 68 | 20.470 | 7141 | 4445 | 1453  \n",
    "  16 | 400 | 20 | 5.00  | 68 | 20.470 | 7149 | 4453 | 3853\n",
    "  17 | 400 | 10 | 7.72  | 68 | 20.470 | 7142 | 4446 | 1615  \n",
    "  18 | 400 | 5  | 10.26 | 68 | 20.470 | 7135 | 4439 | 914  \n",
    "  19 | 200 | 20 | 3.00  | 70 | 18.777 | 7801 | 5103 | 12735\n",
    "  20 | 200 | 10 | 4.55  | 70 | 18.777 | 7800 | 5102 | 5537  \n",
    "  21 | 200 | 5  | 5.99  | 70 | 18.777 | 7793 | 5095 | 3190 \n",
    "  22 | 300 | 20 | 4.01  | 70 | 18.777 | 7798 | 5100 | 7124\n",
    "  23 | 300 | 10 | 6.14  | 70 | 18.777 | 7792 | 5094 | 3036  \n",
    "  24 | 300 | 5  | 8.14  | 70 | 18.777 | 7786 | 5090 | 1726 \n",
    "  25 | 400 | 20 | 5.00  | 70 | 18.777 | 7796 | 5098 | 4581\n",
    "  26 | 400 | 10 | 7.72  | 70 | 18.777 | 7788 | 5092 | 1920  \n",
    "  27 | 400 | 5  | 10.26 | 70 | 18.777 | 7780 | 5084 | 1087 \n",
    "  <h6 align=\"center\">Table 5.4 - Design parameters</h6> "
   ]
  }
 ],
 "metadata": {
  "anaconda-cloud": {},
  "kernelspec": {
   "display_name": "Python [Root]",
   "language": "python",
   "name": "Python [Root]"
  },
  "language_info": {
   "codemirror_mode": {
    "name": "ipython",
    "version": 2
   },
   "file_extension": ".py",
   "mimetype": "text/x-python",
   "name": "python",
   "nbconvert_exporter": "python",
   "pygments_lexer": "ipython2",
   "version": "2.7.12"
  }
 },
 "nbformat": 4,
 "nbformat_minor": 1
}
